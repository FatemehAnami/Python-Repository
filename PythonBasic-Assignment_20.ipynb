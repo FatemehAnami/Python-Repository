{
 "cells": [
  {
   "cell_type": "markdown",
   "id": "af16ebd7",
   "metadata": {},
   "source": [
    "### 1. Set the variable test1 to the string 'This is a test of the emergency text system,' and save test1 to a file named test.txt."
   ]
  },
  {
   "cell_type": "code",
   "execution_count": 8,
   "id": "0e67c025",
   "metadata": {},
   "outputs": [],
   "source": [
    "test1 =  'This is a test of the emergency text system'\n",
    "file = open('test.txt' , 'w')\n",
    "file.write(test1) \n",
    "file.close()"
   ]
  },
  {
   "cell_type": "markdown",
   "id": "873fc984",
   "metadata": {},
   "source": [
    "### 2. Read the contents of the file test.txt into the variable test2. Is there a difference between test 1 and test 2? \n",
    "\n",
    "`There is not any difference between them`"
   ]
  },
  {
   "cell_type": "code",
   "execution_count": 9,
   "id": "5a8fb7fb",
   "metadata": {},
   "outputs": [
    {
     "name": "stdout",
     "output_type": "stream",
     "text": [
      "test1 and test2 are similar\n"
     ]
    }
   ],
   "source": [
    "file = open('test.txt', 'r')\n",
    "test2 = file.read()\n",
    "if test1 == test2:\n",
    "    print('test1 and test2 are similar')\n",
    "else : \n",
    "    print('test1 and test2 are not similar')"
   ]
  },
  {
   "cell_type": "markdown",
   "id": "abe8e7f0",
   "metadata": {},
   "source": [
    "### 3. Create a CSV file called books.csv by using these lines:\n",
    "title,author,year\n",
    "The Weirdstone of Brisingamen,Alan Garner,1960\n",
    "Perdido Street Station,China Miéville,2000\n",
    "Thud!,Terry Pratchett,2005\n",
    "The Spellman Files,Lisa Lutz,2007\n",
    "Small Gods,Terry Pratchett,1992"
   ]
  },
  {
   "cell_type": "code",
   "execution_count": 10,
   "id": "031fdf27",
   "metadata": {},
   "outputs": [],
   "source": [
    "import csv\n",
    "books = [['title','author','year'],\n",
    "        ['The Weirdstone of Brisingamen','Alan Garner',1960],\n",
    "        ['Perdido Street Station','China Miéville',2000],\n",
    "        ['Thud!','Terry Pratchett',2005],\n",
    "        ['The Spellman Files','Lisa Lutz',2007],\n",
    "        ['Small Gods','Terry Pratchett',1992]\n",
    "       ]\n",
    "with open('books.csv' , 'w', encoding='UTF-8') as f :\n",
    "    csv_writer = csv.writer(f)\n",
    "    csv_writer.writerows(books)"
   ]
  },
  {
   "cell_type": "markdown",
   "id": "06f305d4",
   "metadata": {},
   "source": [
    "### 4. Use the sqlite3 module to create a SQLite database called books.db, and a table called books with these fields: title (text), author (text), and year (integer)."
   ]
  },
  {
   "cell_type": "code",
   "execution_count": 6,
   "id": "05c6f02d",
   "metadata": {},
   "outputs": [
    {
     "name": "stdout",
     "output_type": "stream",
     "text": [
      "My DB is connected\n",
      "Table Created\n"
     ]
    }
   ],
   "source": [
    "import sqlite3\n",
    "try:\n",
    "    mydb = sqlite3.connect('books.db') \n",
    "    print('My DB is connected')\n",
    "    # Create table\n",
    "    cursor = mydb.cursor()\n",
    "    cursor.execute('create table books(title varchar(100) , author varchar(30) , year int)')\n",
    "    print('Table Created')\n",
    "    mydb.commit()\n",
    "    mydb.close()\n",
    "except exception as e:\n",
    "    mydb.close()\n",
    "    print(str(e))"
   ]
  },
  {
   "cell_type": "markdown",
   "id": "2b63d8e5",
   "metadata": {},
   "source": [
    "### 5. Read books.csv and insert its data into the book table."
   ]
  },
  {
   "cell_type": "code",
   "execution_count": 16,
   "id": "ee30205f",
   "metadata": {},
   "outputs": [
    {
     "name": "stdout",
     "output_type": "stream",
     "text": [
      "My DB is connected\n",
      "Value Inserted!\n"
     ]
    }
   ],
   "source": [
    "import csv\n",
    "try:\n",
    "    mydb = sqlite3.connect('books.db') \n",
    "    print('My DB is connected')\n",
    "    # Create table\n",
    "    cursor = mydb.cursor()\n",
    "    # Read data from file \n",
    "    with open('books.csv' , 'r') as f:\n",
    "        next(f)\n",
    "        gloss_data = csv.reader(f , delimiter = '\\n')\n",
    "        for line in gloss_data:\n",
    "            #print(str(line))\n",
    "            cursor.execute('INSERT INTO books VALUES ({values})'.format(values = (str(line[0]))))\n",
    "        print('Value Inserted!')       \n",
    "    mydb.commit()\n",
    "    mydb.close()\n",
    "\n",
    "except exception as e:\n",
    "    mydb.close()\n",
    "    print(str(e))"
   ]
  },
  {
   "cell_type": "markdown",
   "id": "d45ddd6b",
   "metadata": {},
   "source": [
    "### 6. Select and print the title column from the book table in alphabetical order."
   ]
  },
  {
   "cell_type": "code",
   "execution_count": 17,
   "id": "e0e46eb8",
   "metadata": {},
   "outputs": [
    {
     "name": "stdout",
     "output_type": "stream",
     "text": [
      "My DB is connected\n",
      "('Perdido Street Station',)\n",
      "('Small Gods',)\n",
      "('The Spellman Files',)\n",
      "('The Weirdstone of Brisingamen',)\n",
      "('Thud!',)\n"
     ]
    }
   ],
   "source": [
    "try:\n",
    "    mydb = sqlite3.connect('books.db') \n",
    "    print('My DB is connected')\n",
    "    cursor = mydb.cursor()\n",
    "    # Read title of books\n",
    "    cursor.execute('select title from books order by title')\n",
    "    for result in cursor.fetchall():\n",
    "        print(result)\n",
    "    mydb.close()\n",
    "except exception as e :\n",
    "    mtdb.close()\n",
    "    print(str(e))    "
   ]
  },
  {
   "cell_type": "markdown",
   "id": "39d9b2a4",
   "metadata": {},
   "source": [
    "### 7. From the book table, select and print all columns in the order of publication."
   ]
  },
  {
   "cell_type": "code",
   "execution_count": 18,
   "id": "1b2bcdb4",
   "metadata": {},
   "outputs": [
    {
     "name": "stdout",
     "output_type": "stream",
     "text": [
      "My DB is connected\n",
      "('The Weirdstone of Brisingamen', 'Alan Garner', 1960)\n",
      "('Small Gods', 'Terry Pratchett', 1992)\n",
      "('Perdido Street Station', 'China Miأ©ville', 2000)\n",
      "('Thud!', 'Terry Pratchett', 2005)\n",
      "('The Spellman Files', 'Lisa Lutz', 2007)\n"
     ]
    }
   ],
   "source": [
    "try:\n",
    "    mydb = sqlite3.connect('books.db') \n",
    "    print('My DB is connected')\n",
    "    cursor = mydb.cursor()\n",
    "    # Read title of books\n",
    "    cursor.execute('select * from books order by year')\n",
    "    for result in cursor.fetchall():\n",
    "        print(result)\n",
    "    mydb.close()\n",
    "except exception as e :\n",
    "    mtdb.close()\n",
    "    print(str(e))  "
   ]
  },
  {
   "cell_type": "markdown",
   "id": "b94b07b4",
   "metadata": {},
   "source": [
    "### 8. Use the sqlalchemy module to connect to the sqlite3 database books.db that you just made in exercise 6."
   ]
  },
  {
   "cell_type": "code",
   "execution_count": 19,
   "id": "439ff3b2",
   "metadata": {},
   "outputs": [
    {
     "name": "stdout",
     "output_type": "stream",
     "text": [
      "('The Weirdstone of Brisingamen', 'Alan Garner', 1960)\n",
      "('Perdido Street Station', 'China Miأ©ville', 2000)\n",
      "('Thud!', 'Terry Pratchett', 2005)\n",
      "('The Spellman Files', 'Lisa Lutz', 2007)\n",
      "('Small Gods', 'Terry Pratchett', 1992)\n"
     ]
    }
   ],
   "source": [
    "import sqlalchemy\n",
    "mydb=sqlalchemy.create_engine('sqlite:///books.db')\n",
    "rows = mydb.execute('select * from books')\n",
    "for row in rows:\n",
    "    print(row)"
   ]
  },
  {
   "cell_type": "markdown",
   "id": "f5327fd3",
   "metadata": {},
   "source": [
    "### 9. Install the Redis server and the Python redis library (pip install redis) on your computer. Create a Redis hash called test with the fields count (1) and name ('Fester Bestertester'). Print all the fields for test."
   ]
  },
  {
   "cell_type": "code",
   "execution_count": 20,
   "id": "a9f77efb",
   "metadata": {},
   "outputs": [
    {
     "name": "stdout",
     "output_type": "stream",
     "text": [
      "Collecting redis\n",
      "  Downloading redis-4.3.4-py3-none-any.whl (246 kB)\n",
      "Requirement already satisfied: packaging>=20.4 in c:\\users\\fatima\\anaconda3\\envs\\image_env\\lib\\site-packages (from redis) (21.3)\n",
      "Collecting async-timeout>=4.0.2\n",
      "  Downloading async_timeout-4.0.2-py3-none-any.whl (5.8 kB)\n",
      "Collecting deprecated>=1.2.3\n",
      "  Downloading Deprecated-1.2.13-py2.py3-none-any.whl (9.6 kB)\n",
      "Requirement already satisfied: wrapt<2,>=1.10 in c:\\users\\fatima\\anaconda3\\envs\\image_env\\lib\\site-packages (from deprecated>=1.2.3->redis) (1.13.3)\n",
      "Requirement already satisfied: pyparsing!=3.0.5,>=2.0.2 in c:\\users\\fatima\\anaconda3\\envs\\image_env\\lib\\site-packages (from packaging>=20.4->redis) (3.0.4)\n",
      "Installing collected packages: deprecated, async-timeout, redis\n",
      "  Attempting uninstall: async-timeout\n",
      "    Found existing installation: async-timeout 4.0.1\n",
      "    Uninstalling async-timeout-4.0.1:\n",
      "      Successfully uninstalled async-timeout-4.0.1\n",
      "Successfully installed async-timeout-4.0.2 deprecated-1.2.13 redis-4.3.4\n",
      "Note: you may need to restart the kernel to use updated packages.\n"
     ]
    }
   ],
   "source": [
    "pip install redis"
   ]
  },
  {
   "cell_type": "code",
   "execution_count": 5,
   "id": "e43dedd7",
   "metadata": {},
   "outputs": [
    {
     "name": "stderr",
     "output_type": "stream",
     "text": [
      "C:\\Users\\Fatima\\AppData\\Local\\Temp/ipykernel_9604/2984489502.py:4: DeprecationWarning: Redis.hmset() is deprecated. Use Redis.hset() instead.\n",
      "  connection.hmset('test', {'count': 1, 'name': 'Fester Bestertester'})\n"
     ]
    },
    {
     "data": {
      "text/plain": [
       "{b'count': b'1', b'name': b'Fester Bestertester'}"
      ]
     },
     "execution_count": 5,
     "metadata": {},
     "output_type": "execute_result"
    }
   ],
   "source": [
    "import redis\n",
    "connection = redis.Redis()\n",
    "#conn.delete('test')\n",
    "connection.hmset('test', {'count': 1, 'name': 'Fester Bestertester'})\n",
    "connection.hgetall('test')"
   ]
  },
  {
   "cell_type": "markdown",
   "id": "dd48da2e",
   "metadata": {},
   "source": [
    "### 10. Increment the count field of test and print it."
   ]
  },
  {
   "cell_type": "code",
   "execution_count": 8,
   "id": "15789dde",
   "metadata": {},
   "outputs": [
    {
     "data": {
      "text/plain": [
       "{b'count': b'5', b'name': b'Fester Bestertester'}"
      ]
     },
     "execution_count": 8,
     "metadata": {},
     "output_type": "execute_result"
    }
   ],
   "source": [
    "connection.hincrby('test','count', 1)\n",
    "connection.hgetall('test')"
   ]
  },
  {
   "cell_type": "code",
   "execution_count": null,
   "id": "ed1f4e42",
   "metadata": {},
   "outputs": [],
   "source": []
  }
 ],
 "metadata": {
  "kernelspec": {
   "display_name": "Python 3 (ipykernel)",
   "language": "python",
   "name": "python3"
  },
  "language_info": {
   "codemirror_mode": {
    "name": "ipython",
    "version": 3
   },
   "file_extension": ".py",
   "mimetype": "text/x-python",
   "name": "python",
   "nbconvert_exporter": "python",
   "pygments_lexer": "ipython3",
   "version": "3.8.12"
  }
 },
 "nbformat": 4,
 "nbformat_minor": 5
}
