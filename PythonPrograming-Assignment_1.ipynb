{
 "cells": [
  {
   "cell_type": "markdown",
   "id": "6e627d6f",
   "metadata": {},
   "source": [
    "### Python Programing  Assignment 1\n",
    "\n",
    "1.\tWrite a Python program to print \"Hello Python\"?\n",
    "2.\tWrite a Python program to do arithmetical operations addition and division.?\n",
    "3.\tWrite a Python program to find the area of a triangle?\n",
    "4.\tWrite a Python program to swap two variables?\n",
    "5.\tWrite a Python program to generate a random number?"
   ]
  },
  {
   "cell_type": "code",
   "execution_count": 1,
   "id": "b211389c",
   "metadata": {},
   "outputs": [
    {
     "name": "stdout",
     "output_type": "stream",
     "text": [
      "Hello Python\n"
     ]
    }
   ],
   "source": [
    "print('Hello Python')"
   ]
  },
  {
   "cell_type": "code",
   "execution_count": 6,
   "id": "8e86369c",
   "metadata": {},
   "outputs": [
    {
     "name": "stdout",
     "output_type": "stream",
     "text": [
      "Enter First Number25\n",
      "Enter Second Number0\n",
      "The addition of the numbers is:  25\n",
      "The Second number is zero and division can not be done!\n"
     ]
    }
   ],
   "source": [
    "number1 = int(input('Enter First Number'))\n",
    "number2 = int(input('Enter Second Number'))\n",
    "print('The addition of the numbers is: ', number1 + number2) \n",
    "if number2 != 0 : \n",
    "    print('The division of the numbers is: ', number1 / number2)\n",
    "else :\n",
    "    print( 'The Second number is zero and division can not be done!')"
   ]
  },
  {
   "cell_type": "code",
   "execution_count": 10,
   "id": "fd810c9e",
   "metadata": {},
   "outputs": [
    {
     "name": "stdout",
     "output_type": "stream",
     "text": [
      "Enter Base: 5\n",
      "Enter Height: 6\n",
      "The Area of the Triangle is:  15.0\n"
     ]
    }
   ],
   "source": [
    "base = int(input('Enter Base: '))\n",
    "height = int(input('Enter Height: '))\n",
    "print('The Area of the Triangle is: ', (base * height)/2)"
   ]
  },
  {
   "cell_type": "code",
   "execution_count": 16,
   "id": "727e5de1",
   "metadata": {},
   "outputs": [
    {
     "name": "stdout",
     "output_type": "stream",
     "text": [
      "Enter Number1: 68\n",
      "Enter Number2: 20\n",
      "Number1 is 20 and Number2 is 68\n"
     ]
    }
   ],
   "source": [
    "number1 = int(input('Enter Number1: '))\n",
    "number2 = int(input('Enter Number2: '))\n",
    "number1 , number2 = number2 , number1\n",
    "print(f'Number1 is {number1} and Number2 is {number2}')"
   ]
  },
  {
   "cell_type": "code",
   "execution_count": 18,
   "id": "a5cce6ec",
   "metadata": {},
   "outputs": [
    {
     "name": "stdout",
     "output_type": "stream",
     "text": [
      "The ramdom Number is: 0.35612754383853307\n"
     ]
    }
   ],
   "source": [
    "from random import random\n",
    "randnumber = random()\n",
    "print(f'The ramdom Number is: {randnumber}')"
   ]
  },
  {
   "cell_type": "code",
   "execution_count": null,
   "id": "b0a89be7",
   "metadata": {},
   "outputs": [],
   "source": []
  }
 ],
 "metadata": {
  "kernelspec": {
   "display_name": "Python 3 (ipykernel)",
   "language": "python",
   "name": "python3"
  },
  "language_info": {
   "codemirror_mode": {
    "name": "ipython",
    "version": 3
   },
   "file_extension": ".py",
   "mimetype": "text/x-python",
   "name": "python",
   "nbconvert_exporter": "python",
   "pygments_lexer": "ipython3",
   "version": "3.8.12"
  }
 },
 "nbformat": 4,
 "nbformat_minor": 5
}
