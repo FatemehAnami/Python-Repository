{
 "cells": [
  {
   "cell_type": "markdown",
   "id": "ed83b54b",
   "metadata": {},
   "source": [
    "###### Python Programing  Assignment 8\n",
    "\n",
    "1.\tWrite a Python Program to Add Two Matrices?\n",
    "2.\tWrite a Python Program to Multiply Two Matrices?\n",
    "3.\tWrite a Python Program to Transpose a Matrix?\n",
    "4.\tWrite a Python Program to Sort Words in Alphabetic Order?\n",
    "5.\tWrite a Python Program to Remove Punctuation From a String?\n",
    "\n"
   ]
  },
  {
   "cell_type": "code",
   "execution_count": 18,
   "id": "c26cc5e1",
   "metadata": {},
   "outputs": [
    {
     "name": "stdout",
     "output_type": "stream",
     "text": [
      "sum of two matrices is:  [[8, 67, 81], [16, 158, 6]]\n"
     ]
    }
   ],
   "source": [
    "# Write a Python Program to Add Two Matrices?\n",
    "matrix1 = [[3,65,72] ,[4,91,4]]\n",
    "matrix2 = [[5,2,9], [12,67,2]]\n",
    "result = [[matrix1[i][j] + matrix2[i][j] for j in range(len(matrix1[0]))] for i in range(len(matrix1))]\n",
    "print('sum of two matrices is: ', result)"
   ]
  },
  {
   "cell_type": "code",
   "execution_count": 22,
   "id": "ff929598",
   "metadata": {},
   "outputs": [
    {
     "name": "stdout",
     "output_type": "stream",
     "text": [
      "sum of two matrices is:  [[15, 130, 648], [48, 6097, 8]]\n"
     ]
    }
   ],
   "source": [
    "# Write a Python Program to Multiply Two Matrices per element?\n",
    "result = [[matrix1[i][j] * matrix2[i][j] for j in range(len(matrix1[0]))] for i in range(len(matrix1))]\n",
    "print('sum of two matrices is: ', result)"
   ]
  },
  {
   "cell_type": "code",
   "execution_count": 56,
   "id": "5d1486e7",
   "metadata": {},
   "outputs": [
    {
     "name": "stdout",
     "output_type": "stream",
     "text": [
      "sum of two matrices is:  [[38, 34], [57, 66]]\n"
     ]
    }
   ],
   "source": [
    "# Write a Python Program to Multiply Two Matrices?\n",
    "matrix1 = [[3,1,7] ,[4,5,9]]\n",
    "matrix2 = [[5,2, 3], [0,6 , 4]]\n",
    "result = [[sum([m1 * m2 for m1,m2 in zip(matrix2[i],matrix1[j])]) for i in range(len(matrix1))] for j in range(len(matrix1))]\n",
    "print('sum of two matrices is: ', result)"
   ]
  },
  {
   "cell_type": "code",
   "execution_count": 66,
   "id": "38c929ca",
   "metadata": {},
   "outputs": [
    {
     "data": {
      "text/plain": [
       "[[3, 4], [1, 5], [7, 9]]"
      ]
     },
     "execution_count": 66,
     "metadata": {},
     "output_type": "execute_result"
    }
   ],
   "source": [
    "# Write a Python Program to Transpose a Matrix?\n",
    "[[matrix1[j][i] for j in range(len(matrix1))] for i in range(len(matrix1[0]))]"
   ]
  },
  {
   "cell_type": "code",
   "execution_count": 97,
   "id": "198008b9",
   "metadata": {},
   "outputs": [
    {
     "name": "stdout",
     "output_type": "stream",
     "text": [
      "a for sample sentence sorting this\n"
     ]
    }
   ],
   "source": [
    "# Write a Python Program to Sort Words in Alphabetic Order?\n",
    "def sort_text(text):\n",
    "    '''\n",
    "    get a text and sort it \n",
    "    '''\n",
    "    words = [word.lower() for word in text.split()]\n",
    "    words.sort()\n",
    "    return ' '.join([word for word in words])\n",
    "    \n",
    "text = 'This a sample sentence for sorting'\n",
    "print(sort_text(text))"
   ]
  },
  {
   "cell_type": "code",
   "execution_count": 93,
   "id": "a59aecb4",
   "metadata": {},
   "outputs": [
    {
     "name": "stdout",
     "output_type": "stream",
     "text": [
      " This Fisrt sample sentence for  punctuation\n"
     ]
    }
   ],
   "source": [
    "# Write a Python Program to Remove Punctuation From a String?\n",
    "def split_string(text) :\n",
    "    '''\n",
    "    split text to words\n",
    "    '''\n",
    "    return [word for word in text.split()]\n",
    "\n",
    "def remove_punc(word):\n",
    "    '''\n",
    "    split word to letters and return only alphabets \n",
    "    '''\n",
    "    return ''.join([l for l in word if l.isalpha()])\n",
    "\n",
    "def clean_string(text) :\n",
    "    '''\n",
    "    go through sentence word by word and remove punctuations\n",
    "    '''\n",
    "    words = split_string(text)\n",
    "    x = ''\n",
    "    for word in words :\n",
    "        x = x + ' '+ remove_punc(word)\n",
    "    return x \n",
    "\n",
    "text = \"This 'Fisrt' sample sentence for @ punctuation!\"\n",
    "print(clean_string(text))"
   ]
  }
 ],
 "metadata": {
  "kernelspec": {
   "display_name": "Python 3 (ipykernel)",
   "language": "python",
   "name": "python3"
  },
  "language_info": {
   "codemirror_mode": {
    "name": "ipython",
    "version": 3
   },
   "file_extension": ".py",
   "mimetype": "text/x-python",
   "name": "python",
   "nbconvert_exporter": "python",
   "pygments_lexer": "ipython3",
   "version": "3.8.12"
  }
 },
 "nbformat": 4,
 "nbformat_minor": 5
}
