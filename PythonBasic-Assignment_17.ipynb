{
 "cells": [
  {
   "cell_type": "markdown",
   "id": "af16ebd7",
   "metadata": {},
   "source": [
    "### 1. Assign the value 7 to the variable guess_me. Then, write the conditional tests (if, else, and elif) to print the string 'too low' if guess_me is less than 7, 'too high' if greater than 7, and 'just right' if equal to 7."
   ]
  },
  {
   "cell_type": "code",
   "execution_count": 1,
   "id": "0e67c025",
   "metadata": {},
   "outputs": [
    {
     "name": "stdout",
     "output_type": "stream",
     "text": [
      "just right\n"
     ]
    }
   ],
   "source": [
    "guess_me = 7\n",
    "if guess_me < 7 :\n",
    "    print('too low')\n",
    "elif guess_me > 7 :\n",
    "    print('too high')\n",
    "else: \n",
    "    print('just right')"
   ]
  },
  {
   "attachments": {},
   "cell_type": "markdown",
   "id": "873fc984",
   "metadata": {},
   "source": [
    "### 2. Assign the value 7 to the variable guess_me and the value 1 to the variable start. Write a while loop that compares start with guess_me. Print too low if start is less than guess me. If start equals guess_me, print 'found it!' and exit the loop. If start is greater than guess_me, print 'oops' and exit the loop. Increment start at the end of the loop."
   ]
  },
  {
   "cell_type": "code",
   "execution_count": 2,
   "id": "5a8fb7fb",
   "metadata": {},
   "outputs": [
    {
     "name": "stdout",
     "output_type": "stream",
     "text": [
      "too low\n",
      "too low\n",
      "too low\n",
      "too low\n",
      "too low\n",
      "too low\n",
      "found it!\n"
     ]
    }
   ],
   "source": [
    "guess_me = 7\n",
    "start = 1\n",
    "while True :\n",
    "    if start < guess_me:\n",
    "        print('too low')\n",
    "    elif start == guess_me :\n",
    "        print('found it!')\n",
    "        break\n",
    "    else :\n",
    "        print('oops')\n",
    "        break\n",
    "    start +=1"
   ]
  },
  {
   "cell_type": "markdown",
   "id": "abe8e7f0",
   "metadata": {},
   "source": [
    "### 3. Print the following values of the list [3, 2, 1, 0] using a for loop."
   ]
  },
  {
   "cell_type": "code",
   "execution_count": 10,
   "id": "031fdf27",
   "metadata": {},
   "outputs": [
    {
     "name": "stdout",
     "output_type": "stream",
     "text": [
      "3 2 1 0 \n",
      "\n",
      "3 2 1 0 "
     ]
    }
   ],
   "source": [
    "for i in range(3, -1 , -1) :\n",
    "    print(i , end = ' ')\n",
    "print('\\n')\n",
    "\n",
    "for i in [3,2,1,0] : \n",
    "    print(i , end = ' ')    "
   ]
  },
  {
   "cell_type": "markdown",
   "id": "06f305d4",
   "metadata": {},
   "source": [
    "### 4. Use a list comprehension to make a list of the even numbers in range(10)"
   ]
  },
  {
   "cell_type": "code",
   "execution_count": 11,
   "id": "05c6f02d",
   "metadata": {},
   "outputs": [
    {
     "data": {
      "text/plain": [
       "[0, 2, 4, 6, 8]"
      ]
     },
     "execution_count": 11,
     "metadata": {},
     "output_type": "execute_result"
    }
   ],
   "source": [
    "[x for x in range(10) if x % 2 == 0]"
   ]
  },
  {
   "cell_type": "markdown",
   "id": "2b63d8e5",
   "metadata": {},
   "source": [
    "### 5. Use a dictionary comprehension to create the dictionary squares. Use range(10) to return the keys, and use the square of each key as its value."
   ]
  },
  {
   "cell_type": "code",
   "execution_count": 15,
   "id": "ee30205f",
   "metadata": {},
   "outputs": [
    {
     "data": {
      "text/plain": [
       "{0: 0, 1: 1, 2: 4, 3: 9, 4: 16, 5: 25, 6: 36, 7: 49, 8: 64, 9: 81}"
      ]
     },
     "execution_count": 15,
     "metadata": {},
     "output_type": "execute_result"
    }
   ],
   "source": [
    "{k:k**2 for k in range(10)}"
   ]
  },
  {
   "cell_type": "markdown",
   "id": "d45ddd6b",
   "metadata": {},
   "source": [
    "### 6. Construct the set odd from the odd numbers in the range using a set comprehension (10)."
   ]
  },
  {
   "cell_type": "code",
   "execution_count": 20,
   "id": "e0e46eb8",
   "metadata": {},
   "outputs": [
    {
     "data": {
      "text/plain": [
       "{1, 3, 5, 7, 9}"
      ]
     },
     "execution_count": 20,
     "metadata": {},
     "output_type": "execute_result"
    }
   ],
   "source": [
    "{k for k in range(10) if k%2 !=0}"
   ]
  },
  {
   "cell_type": "markdown",
   "id": "39d9b2a4",
   "metadata": {},
   "source": [
    "### 7. Use a generator comprehension to return the string 'Got ' and a number for the numbers in range(10). Iterate through this by using a for loop."
   ]
  },
  {
   "cell_type": "code",
   "execution_count": 36,
   "id": "1b2bcdb4",
   "metadata": {},
   "outputs": [
    {
     "name": "stdout",
     "output_type": "stream",
     "text": [
      "The elemnt 0 of generator is:  ('Got', 0)\n",
      "The elemnt 1 of generator is:  ('Got', 1)\n",
      "The elemnt 2 of generator is:  ('Got', 2)\n",
      "The elemnt 3 of generator is:  ('Got', 3)\n",
      "The elemnt 4 of generator is:  ('Got', 4)\n",
      "The elemnt 5 of generator is:  ('Got', 5)\n",
      "The elemnt 6 of generator is:  ('Got', 6)\n",
      "The elemnt 7 of generator is:  ('Got', 7)\n",
      "The elemnt 8 of generator is:  ('Got', 8)\n",
      "The elemnt 9 of generator is:  ('Got', 9)\n"
     ]
    }
   ],
   "source": [
    "gen = (('Got',i) for i in range(10))\n",
    "for e in gen :\n",
    "    print(f'The elemnt {e[1]} of generator is: ' , e)"
   ]
  },
  {
   "cell_type": "markdown",
   "id": "9eafd7b9",
   "metadata": {},
   "source": [
    "### 8. Define a function called good that returns the list ['Harry', 'Ron', 'Hermione']."
   ]
  },
  {
   "cell_type": "code",
   "execution_count": 28,
   "id": "b87d20ba",
   "metadata": {},
   "outputs": [
    {
     "data": {
      "text/plain": [
       "['Harry', 'Ron', 'Hermione']"
      ]
     },
     "execution_count": 28,
     "metadata": {},
     "output_type": "execute_result"
    }
   ],
   "source": [
    "def good() :\n",
    "    return ['Harry', 'Ron', 'Hermione']\n",
    "good()"
   ]
  },
  {
   "cell_type": "markdown",
   "id": "9da7f6b3",
   "metadata": {},
   "source": [
    "### 9. Define a generator function called get_odds that returns the odd numbers from range(10). Use a for loop to find and print the third value returned."
   ]
  },
  {
   "cell_type": "code",
   "execution_count": 32,
   "id": "9e449c08",
   "metadata": {},
   "outputs": [
    {
     "name": "stdout",
     "output_type": "stream",
     "text": [
      "The third element is:  5\n"
     ]
    }
   ],
   "source": [
    "get_odd = (o for o in range(10) if o % 2 != 0)\n",
    "i = 1\n",
    "for  o in get_odd : \n",
    "    if i == 3 : \n",
    "        print('The third element is: ' , o)\n",
    "        break\n",
    "    i+=1"
   ]
  },
  {
   "cell_type": "markdown",
   "id": "66b6d19b",
   "metadata": {},
   "source": [
    "### 10. Define an exception called OopsException. Raise this exception to see what happens. Then write the code to catch this exception and print 'Caught an oops'."
   ]
  },
  {
   "cell_type": "code",
   "execution_count": 41,
   "id": "a9ed06df",
   "metadata": {},
   "outputs": [
    {
     "name": "stdout",
     "output_type": "stream",
     "text": [
      "Caught an oops\n"
     ]
    }
   ],
   "source": [
    "class OopsException(Exception):\n",
    "    pass\n",
    "\n",
    "try :\n",
    "    raise OopsException\n",
    "except OopsException:\n",
    "    print('Caught an oops')"
   ]
  },
  {
   "cell_type": "markdown",
   "id": "3f9c6214",
   "metadata": {},
   "source": [
    "### 11. Use zip() to make a dictionary called movies that pairs these lists: titles = ['Creature of Habit', 'Crewel Fate'] and plots = ['A nun turns into a monster', 'A haunted yarn shop']."
   ]
  },
  {
   "cell_type": "code",
   "execution_count": 42,
   "id": "4e9d46df",
   "metadata": {},
   "outputs": [
    {
     "data": {
      "text/plain": [
       "{'Creature of Habit': 'A nun turns into a monster',\n",
       " 'Crewel Fate': 'A haunted yarn shop'}"
      ]
     },
     "execution_count": 42,
     "metadata": {},
     "output_type": "execute_result"
    }
   ],
   "source": [
    "titles = ['Creature of Habit', 'Crewel Fate']\n",
    "plots = ['A nun turns into a monster', 'A haunted yarn shop']\n",
    "movies = {t : p for t , p in zip(titles , plots)}\n",
    "movies"
   ]
  },
  {
   "cell_type": "code",
   "execution_count": null,
   "id": "11717cb9",
   "metadata": {},
   "outputs": [],
   "source": []
  }
 ],
 "metadata": {
  "kernelspec": {
   "display_name": "Python 3 (ipykernel)",
   "language": "python",
   "name": "python3"
  },
  "language_info": {
   "codemirror_mode": {
    "name": "ipython",
    "version": 3
   },
   "file_extension": ".py",
   "mimetype": "text/x-python",
   "name": "python",
   "nbconvert_exporter": "python",
   "pygments_lexer": "ipython3",
   "version": "3.8.12"
  }
 },
 "nbformat": 4,
 "nbformat_minor": 5
}
