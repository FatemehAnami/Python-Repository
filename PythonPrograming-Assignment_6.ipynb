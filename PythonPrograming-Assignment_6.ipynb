{
 "cells": [
  {
   "cell_type": "markdown",
   "id": "ed83b54b",
   "metadata": {},
   "source": [
    "###### Python Programing  Assignment 6\n",
    "\n",
    "1.\tWrite a Python Program to Display Fibonacci Sequence Using Recursion?\n",
    "2.\tWrite a Python Program to Find Factorial of Number Using Recursion?\n",
    "3.\tWrite a Python Program to calculate your Body Mass Index?\n",
    "4.\tWrite a Python Program to calculate the natural logarithm of any number?\n",
    "5.\tWrite a Python Program for cube sum of first n natural numbers?"
   ]
  },
  {
   "cell_type": "code",
   "execution_count": 21,
   "id": "c26cc5e1",
   "metadata": {},
   "outputs": [
    {
     "name": "stdout",
     "output_type": "stream",
     "text": [
      "Enter your number of members of Fibonacci Sequence: 10\n",
      "The Fibonacci Sequence is: 1 1 2 3 5 8 13 21 34 55 "
     ]
    }
   ],
   "source": [
    "#Write a Python Program to Display Fibonacci Sequence Using Recursion?\n",
    "def fibonacci(n):\n",
    "    '''\n",
    "    This function return n first member of Fibonacci Sequence \n",
    "    n: number of member that should presented\n",
    "    '''\n",
    "    try:\n",
    "        if n <= 1 :\n",
    "            return 1\n",
    "        else:\n",
    "            return fibonacci(n-1)+ fibonacci(n-2)\n",
    "    except:\n",
    "        print('There is a problem in fibonacci function')\n",
    "try: \n",
    "    x=[]\n",
    "    n = int(input('Enter your number of members of Fibonacci Sequence: '))\n",
    "    print('The Fibonacci Sequence is: ', end = '')\n",
    "    for i in range(n):\n",
    "        print(fibonacci(i), end = ' ')\n",
    "except:\n",
    "    print('Please enter an intger number as input')"
   ]
  },
  {
   "cell_type": "code",
   "execution_count": 25,
   "id": "f6b99808",
   "metadata": {},
   "outputs": [
    {
     "name": "stdout",
     "output_type": "stream",
     "text": [
      "Enter your number of members of Fibonacci Sequence: 5\n",
      "The Factorial is: 120\n"
     ]
    }
   ],
   "source": [
    "# Write a Python Program to Find Factorial of Number Using Recursion?\n",
    "def factorial(n):\n",
    "    '''\n",
    "    This function return n first member of Fibonacci Sequence \n",
    "    n: number of member that should presented\n",
    "    '''\n",
    "    try:\n",
    "        if n < 1 :\n",
    "            return 1\n",
    "        else:\n",
    "            return n * factorial(n-1)\n",
    "    except:\n",
    "        print('There is a problem in fibonacci function')\n",
    "try: \n",
    "    x=[]\n",
    "    n = int(input('Enter your number of members of Fibonacci Sequence: '))\n",
    "    print('The Factorial is: ', end = '')\n",
    "    print(factorial(n))\n",
    "except:\n",
    "    print('Please enter an intger number as input')"
   ]
  },
  {
   "cell_type": "code",
   "execution_count": 28,
   "id": "0a5a30ab",
   "metadata": {},
   "outputs": [
    {
     "name": "stdout",
     "output_type": "stream",
     "text": [
      "Enter your weight in kg: 54\n",
      "Enter your hieght in cm: 160\n",
      "Your Body Mass is:  21.093749999999996\n"
     ]
    }
   ],
   "source": [
    "# Write a Python Program to calculate your Body Mass Index?\n",
    "try:\n",
    "    weight = float(input('Enter your weight in kg: '))\n",
    "    height = float(input('Enter your hieght in cm: '))\n",
    "    print('Your Body Mass is: ', weight / (height / 100)**2)\n",
    "except : \n",
    "    print(f'Please enter weight and height truly ')    "
   ]
  },
  {
   "cell_type": "code",
   "execution_count": 29,
   "id": "181303df",
   "metadata": {},
   "outputs": [
    {
     "name": "stdout",
     "output_type": "stream",
     "text": [
      "Enter your number: 5\n",
      "Your Natural Log is:  1.6094379124341003\n"
     ]
    }
   ],
   "source": [
    "# Write a Python Program to calculate the natural logarithm of any number?\n",
    "import math\n",
    "try:\n",
    "    n = float(input('Enter your number: '))\n",
    "    print('Your Natural Log is: ', math.log(n))\n",
    "except : \n",
    "    print(f'Please enter correct number ')  "
   ]
  },
  {
   "cell_type": "code",
   "execution_count": 31,
   "id": "44b00cef",
   "metadata": {},
   "outputs": [
    {
     "name": "stdout",
     "output_type": "stream",
     "text": [
      "Enter your number: 54\n",
      "your sum of cube of n natural number is:  2205225.0\n"
     ]
    }
   ],
   "source": [
    "# Write a Python Program for cube sum of first n natural numbers?\n",
    "try:\n",
    "    number = int(input('Enter your number: '))\n",
    "    s = (number ** 2) * ((number + 1) ** 2) / 4\n",
    "    print('your sum of cube of n natural number is: ', s)\n",
    "except :\n",
    "    print(f'Please enter a integer number ') "
   ]
  },
  {
   "cell_type": "code",
   "execution_count": null,
   "id": "bf5193e1",
   "metadata": {},
   "outputs": [],
   "source": []
  }
 ],
 "metadata": {
  "kernelspec": {
   "display_name": "Python 3 (ipykernel)",
   "language": "python",
   "name": "python3"
  },
  "language_info": {
   "codemirror_mode": {
    "name": "ipython",
    "version": 3
   },
   "file_extension": ".py",
   "mimetype": "text/x-python",
   "name": "python",
   "nbconvert_exporter": "python",
   "pygments_lexer": "ipython3",
   "version": "3.8.12"
  }
 },
 "nbformat": 4,
 "nbformat_minor": 5
}
