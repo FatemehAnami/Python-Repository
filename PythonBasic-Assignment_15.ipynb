{
 "cells": [
  {
   "attachments": {},
   "cell_type": "markdown",
   "id": "af16ebd7",
   "metadata": {},
   "source": [
    "### 1.How many seconds are in an hour? Use the interactive interpreter as a calculator and multiply the number of seconds in a minute (60) by the number of minutes in an hour (also 60)."
   ]
  },
  {
   "cell_type": "code",
   "execution_count": 2,
   "id": "742d2b2a",
   "metadata": {},
   "outputs": [
    {
     "data": {
      "text/plain": [
       "3600"
      ]
     },
     "execution_count": 2,
     "metadata": {},
     "output_type": "execute_result"
    }
   ],
   "source": [
    "60*60"
   ]
  },
  {
   "cell_type": "markdown",
   "id": "873fc984",
   "metadata": {},
   "source": [
    "### 2. Assign the result from the previous task (seconds in an hour) to a variable called seconds_per_hour."
   ]
  },
  {
   "cell_type": "code",
   "execution_count": 17,
   "id": "ce0e3c59",
   "metadata": {},
   "outputs": [
    {
     "name": "stdout",
     "output_type": "stream",
     "text": [
      "Seconds per hour: 3600\n"
     ]
    }
   ],
   "source": [
    "seconds_per_hour = 60 * 60 \n",
    "print(f'Seconds per hour: {seconds_per_hour}')"
   ]
  },
  {
   "cell_type": "markdown",
   "id": "abe8e7f0",
   "metadata": {},
   "source": [
    "### 3. How many seconds do you think there are in a day? Make use of the variables seconds per hour and minutes per hour."
   ]
  },
  {
   "cell_type": "code",
   "execution_count": 13,
   "id": "2344034c",
   "metadata": {},
   "outputs": [
    {
     "name": "stdout",
     "output_type": "stream",
     "text": [
      "Seconds per day use of the variable seconds per hour: 86400\n",
      "Seconds per day use of the variable minutes per hour: 86400\n"
     ]
    }
   ],
   "source": [
    "second_per_minute = 60\n",
    "minutes_per_hour = 60 \n",
    "hours_per_day = 24\n",
    "print(f'Seconds per day use of the variable seconds per hour: {seconds_per_hour * hours_per_day}')\n",
    "seconds_per_day =  minutes_per_hour * second_per_minute * hours_per_day \n",
    "print(f'Seconds per day use of the variable minutes per hour: {minutes_per_hour * second_per_minute * hours_per_day}')"
   ]
  },
  {
   "cell_type": "markdown",
   "id": "06f305d4",
   "metadata": {},
   "source": [
    "### 4. Calculate seconds per day again, but this time save the result in a variable called seconds_per_day"
   ]
  },
  {
   "cell_type": "code",
   "execution_count": 16,
   "id": "05c6f02d",
   "metadata": {},
   "outputs": [
    {
     "name": "stdout",
     "output_type": "stream",
     "text": [
      "Seconds per day: 86400\n"
     ]
    }
   ],
   "source": [
    "seconds_per_day = seconds_per_hour * hours_per_day\n",
    "print(f'Seconds per day: {seconds_per_day}')"
   ]
  },
  {
   "cell_type": "markdown",
   "id": "2b63d8e5",
   "metadata": {},
   "source": [
    "### 5. Divide seconds_per_day by seconds_per_hour. Use floating-point (/) division."
   ]
  },
  {
   "cell_type": "code",
   "execution_count": 18,
   "id": "ee30205f",
   "metadata": {},
   "outputs": [
    {
     "data": {
      "text/plain": [
       "24.0"
      ]
     },
     "execution_count": 18,
     "metadata": {},
     "output_type": "execute_result"
    }
   ],
   "source": [
    "seconds_per_day / seconds_per_hour"
   ]
  },
  {
   "cell_type": "markdown",
   "id": "d45ddd6b",
   "metadata": {},
   "source": [
    "### 6. Divide seconds_per_day by seconds_per_hour, using integer (//) division. Did this number agree with the floating-point value from the previous question, aside from the final .0?"
   ]
  },
  {
   "cell_type": "code",
   "execution_count": 19,
   "id": "e0e46eb8",
   "metadata": {},
   "outputs": [
    {
     "data": {
      "text/plain": [
       "24"
      ]
     },
     "execution_count": 19,
     "metadata": {},
     "output_type": "execute_result"
    }
   ],
   "source": [
    "seconds_per_day // seconds_per_hour "
   ]
  },
  {
   "cell_type": "markdown",
   "id": "d78fdb9c",
   "metadata": {},
   "source": [
    "#### no this number is an integer as it is clear in the above result.  "
   ]
  },
  {
   "cell_type": "markdown",
   "id": "39d9b2a4",
   "metadata": {},
   "source": [
    "### 7. Write a generator, genPrimes, that returns the sequence of prime numbers on successive calls to its next() method: 2, 3, 5, 7, 11, ..."
   ]
  },
  {
   "cell_type": "code",
   "execution_count": 91,
   "id": "1b2bcdb4",
   "metadata": {},
   "outputs": [],
   "source": [
    "def genPrimes(): \n",
    "    primes = []\n",
    "    n = 2\n",
    "    while True:\n",
    "        for j in primes:\n",
    "            if not(n % j) :\n",
    "                n+=1\n",
    "                break\n",
    "        else:\n",
    "            primes.append(n)\n",
    "            n+=1\n",
    "            yield primes"
   ]
  },
  {
   "cell_type": "code",
   "execution_count": 92,
   "id": "b92ea946",
   "metadata": {},
   "outputs": [
    {
     "data": {
      "text/plain": [
       "[2]"
      ]
     },
     "execution_count": 92,
     "metadata": {},
     "output_type": "execute_result"
    }
   ],
   "source": [
    "seq = genPrimes()\n",
    "next(seq)"
   ]
  },
  {
   "cell_type": "code",
   "execution_count": 93,
   "id": "a0f52294",
   "metadata": {},
   "outputs": [
    {
     "data": {
      "text/plain": [
       "[2, 3]"
      ]
     },
     "execution_count": 93,
     "metadata": {},
     "output_type": "execute_result"
    }
   ],
   "source": [
    "next(seq)"
   ]
  },
  {
   "cell_type": "code",
   "execution_count": 94,
   "id": "31eeeb9a",
   "metadata": {},
   "outputs": [
    {
     "data": {
      "text/plain": [
       "[2, 3, 5]"
      ]
     },
     "execution_count": 94,
     "metadata": {},
     "output_type": "execute_result"
    }
   ],
   "source": [
    "next(seq)"
   ]
  },
  {
   "cell_type": "code",
   "execution_count": 95,
   "id": "7ef2d27e",
   "metadata": {},
   "outputs": [
    {
     "data": {
      "text/plain": [
       "[2, 3, 5, 7]"
      ]
     },
     "execution_count": 95,
     "metadata": {},
     "output_type": "execute_result"
    }
   ],
   "source": [
    "next(seq)"
   ]
  },
  {
   "cell_type": "code",
   "execution_count": 96,
   "id": "794fb287",
   "metadata": {},
   "outputs": [
    {
     "data": {
      "text/plain": [
       "[2, 3, 5, 7, 11]"
      ]
     },
     "execution_count": 96,
     "metadata": {},
     "output_type": "execute_result"
    }
   ],
   "source": [
    "next(seq)"
   ]
  },
  {
   "cell_type": "code",
   "execution_count": null,
   "id": "e5dc6f52",
   "metadata": {},
   "outputs": [],
   "source": []
  }
 ],
 "metadata": {
  "kernelspec": {
   "display_name": "Python 3 (ipykernel)",
   "language": "python",
   "name": "python3"
  },
  "language_info": {
   "codemirror_mode": {
    "name": "ipython",
    "version": 3
   },
   "file_extension": ".py",
   "mimetype": "text/x-python",
   "name": "python",
   "nbconvert_exporter": "python",
   "pygments_lexer": "ipython3",
   "version": "3.8.12"
  }
 },
 "nbformat": 4,
 "nbformat_minor": 5
}
