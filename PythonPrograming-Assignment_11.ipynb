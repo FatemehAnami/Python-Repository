{
 "cells": [
  {
   "cell_type": "markdown",
   "id": "ed83b54b",
   "metadata": {},
   "source": [
    "###### Python Programing  Assignment 11\n",
    "\n",
    "1.\tWrite a Python program to find words which are greater than given length k?\n",
    "2.\tWrite a Python program for removing i-th character from a string?\n",
    "3.\tWrite a Python program to split and join a string?\n",
    "4.\tWrite a Python to check if a given string is binary string or not?\n",
    "5.\tWrite a Python program to find uncommon words from two Strings?\n",
    "6.\tWrite a Python to find all duplicate characters in string?\n",
    "7.\tWrite a Python Program to check if a string contains any special character?\n"
   ]
  },
  {
   "cell_type": "code",
   "execution_count": 7,
   "id": "1b0e7901",
   "metadata": {},
   "outputs": [
    {
     "name": "stdout",
     "output_type": "stream",
     "text": [
      "The words with length more than 4 are: False, vikash, student, books, False, class, "
     ]
    }
   ],
   "source": [
    "# Write a Python program to find words which are greater than given length k?\n",
    "def high_length_words(word , k):\n",
    "    '''\n",
    "    This finction check whether a word length is more than k character or not\n",
    "    '''\n",
    "    n = len(word)\n",
    "    if n > k :\n",
    "        return word\n",
    "    else :\n",
    "        return False\n",
    "\n",
    "k = 4\n",
    "words = ['test' , 'vikash', 'student' , 'books', 'me' , 'class']\n",
    "print(f'The words with length more than {k} are: ', end = '')\n",
    "for word in words:\n",
    "    print(high_length_words(word , k), end = ', ')"
   ]
  },
  {
   "cell_type": "code",
   "execution_count": 48,
   "id": "4bdbfdb2",
   "metadata": {},
   "outputs": [
    {
     "name": "stdout",
     "output_type": "stream",
     "text": [
      "The string after removing i-th character is:  Thi is a test\n"
     ]
    }
   ],
   "source": [
    "# Write a Python program for removing i-th character from a string?\n",
    "def remove_character(text,i) :\n",
    "    '''\n",
    "    This function remove the i-th character of a string\n",
    "    '''\n",
    "    return text[:i] + text[i+1:]\n",
    "                   \n",
    "text = 'This is a test'\n",
    "print('The string after removing i-th character is: ', remove_character(text , 3))\n"
   ]
  },
  {
   "cell_type": "code",
   "execution_count": 46,
   "id": "17289efd",
   "metadata": {},
   "outputs": [
    {
     "name": "stdout",
     "output_type": "stream",
     "text": [
      "The result of split is:  ['This ', 'is ', 'a test']\n",
      "The result of join is :  This /is /a test The second test\n"
     ]
    }
   ],
   "source": [
    "# Write a Python program to split and join a string?\n",
    "def split_string(text, sep , maxsplit = -1):\n",
    "    \n",
    "    '''\n",
    "    This finction split a string based on delimeter\n",
    "    '''\n",
    "    result = []\n",
    "    k = -1\n",
    "    if maxsplit == -1 :\n",
    "        maxsplit = len(text)\n",
    "    for i in range(maxsplit):\n",
    "        k = text.find(sep)\n",
    "        if k != -1 :\n",
    "            result.append(text[:k])\n",
    "            text = text[k+1:]\n",
    "        else:\n",
    "            break\n",
    "    result.append(text)\n",
    "    return result\n",
    "        \n",
    "def join_string(text1, text2 , sep= ''):\n",
    "    '''\n",
    "    This function join two strings\n",
    "    '''\n",
    "    return text1  + sep + text2\n",
    "\n",
    "text1 = 'This /is /a test'\n",
    "text2 = 'The second test'\n",
    "print('The result of split is: ', split_string(text1, '/'))\n",
    "print('The result of join is : ' ,join_string(text1 , text2 , ' '))"
   ]
  },
  {
   "cell_type": "code",
   "execution_count": 44,
   "id": "67a12719",
   "metadata": {},
   "outputs": [
    {
     "name": "stdout",
     "output_type": "stream",
     "text": [
      "The string is binary:  True\n"
     ]
    }
   ],
   "source": [
    "# Write a Python to check if a given string is binary string or not?\n",
    "\n",
    "def check_binary(text):\n",
    "    '''\n",
    "    This function check whether the text is binary or not \n",
    "    '''\n",
    " \n",
    "    p = set(text)\n",
    " \n",
    "    s = {'0', '1'}\n",
    " \n",
    "    if s == p or p == {'0'} or p == {'1'}:\n",
    "        return True\n",
    "    else:\n",
    "        return False\n",
    "\n",
    "text = '101100011'\n",
    "print('The string is binary: ', check_binary( text))"
   ]
  },
  {
   "cell_type": "code",
   "execution_count": 37,
   "id": "065ac9a2",
   "metadata": {},
   "outputs": [
    {
     "name": "stdout",
     "output_type": "stream",
     "text": [
      "['a', 'second']\n"
     ]
    }
   ],
   "source": [
    "# Write a Python program to find uncommon words from two Strings?\n",
    "\n",
    "def uncommon_words(text1, text2):\n",
    "    \n",
    "    '''\n",
    "    This finction find uncommon words from two strings\n",
    "    '''\n",
    "    count = {}\n",
    "    for word in text1.split():\n",
    "        count[word] = count.get(word,0) + 1\n",
    "        \n",
    "    for word in text2.split() :\n",
    "        count[word] = count.get(word,0) + 1\n",
    "    \n",
    "    return [word for word in count if count[word]==1]\n",
    "\n",
    "\n",
    "text1 = 'This is a test'\n",
    "text2 = 'This is second test'\n",
    "print(uncommon_words(text1, text2))"
   ]
  },
  {
   "cell_type": "code",
   "execution_count": 39,
   "id": "d22dd215",
   "metadata": {},
   "outputs": [
    {
     "name": "stdout",
     "output_type": "stream",
     "text": [
      "['i', 's', ' ', 't']\n"
     ]
    }
   ],
   "source": [
    "# Write a Python to find all duplicate characters in string?\n",
    "def find_all_duplicated_char(string):\n",
    "    '''\n",
    "    This function find character that repeat more than one time in a string and return them\n",
    "    '''\n",
    "    x = []\n",
    "    for i in string :\n",
    "        if i not in x and string.count(i) > 1 :\n",
    "            x.append(i)\n",
    "    return x\n",
    "\n",
    "text = 'This is a test' \n",
    "print(find_all_duplicated_char(text))"
   ]
  },
  {
   "cell_type": "code",
   "execution_count": 41,
   "id": "cc2cdafc",
   "metadata": {},
   "outputs": [
    {
     "name": "stdout",
     "output_type": "stream",
     "text": [
      "The string has special character:  True\n"
     ]
    }
   ],
   "source": [
    "# Write a Python Program to check if a string contains any special character?\n",
    "def check_special_char(string):\n",
    "    '''\n",
    "    This function check whether string has special character or not\n",
    "    '''\n",
    "    special_char = '[]()!@#$%^&*()_+=-?><:;~/\\{}|'\n",
    "    \n",
    "    for i in string:\n",
    "        if i in special_char :\n",
    "            return True\n",
    "    return False\n",
    "\n",
    "text = 'This is a %test' \n",
    "print('The string has special character: ', check_special_char(text))"
   ]
  },
  {
   "cell_type": "code",
   "execution_count": null,
   "id": "183e3db5",
   "metadata": {},
   "outputs": [],
   "source": []
  }
 ],
 "metadata": {
  "kernelspec": {
   "display_name": "Python 3 (ipykernel)",
   "language": "python",
   "name": "python3"
  },
  "language_info": {
   "codemirror_mode": {
    "name": "ipython",
    "version": 3
   },
   "file_extension": ".py",
   "mimetype": "text/x-python",
   "name": "python",
   "nbconvert_exporter": "python",
   "pygments_lexer": "ipython3",
   "version": "3.8.12"
  }
 },
 "nbformat": 4,
 "nbformat_minor": 5
}
