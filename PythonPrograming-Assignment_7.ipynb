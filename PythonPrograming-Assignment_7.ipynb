{
 "cells": [
  {
   "cell_type": "markdown",
   "id": "ed83b54b",
   "metadata": {},
   "source": [
    "###### Python Programing  Assignment 7\n",
    "\n",
    "1.\tWrite a Python Program to find sum of array?\n",
    "2.\tWrite a Python Program to find largest element in an array?\n",
    "3.\tWrite a Python Program for array rotation?\n",
    "4.\tWrite a Python Program to Split the array and add the first part to the end?\n",
    "5.\tWrite a Python Program to check if given array is Monotonic?\n"
   ]
  },
  {
   "cell_type": "code",
   "execution_count": 1,
   "id": "c26cc5e1",
   "metadata": {},
   "outputs": [
    {
     "name": "stdout",
     "output_type": "stream",
     "text": [
      "sum of array is:  235\n"
     ]
    }
   ],
   "source": [
    "# Write a Python Program to find sum of array?\n",
    "arr = [3,65,72,4,91]\n",
    "sum = 0\n",
    "for i in arr :\n",
    "    sum = sum + i\n",
    "print('sum of array is: ', sum)"
   ]
  },
  {
   "cell_type": "code",
   "execution_count": 73,
   "id": "f6b99808",
   "metadata": {},
   "outputs": [
    {
     "ename": "SyntaxError",
     "evalue": "invalid syntax (Temp/ipykernel_12740/2822828704.py, line 3)",
     "output_type": "error",
     "traceback": [
      "\u001b[1;36m  File \u001b[1;32m\"C:\\Users\\Fatima\\AppData\\Local\\Temp/ipykernel_12740/2822828704.py\"\u001b[1;36m, line \u001b[1;32m3\u001b[0m\n\u001b[1;33m    [max = i for i in arr in i>max]\u001b[0m\n\u001b[1;37m         ^\u001b[0m\n\u001b[1;31mSyntaxError\u001b[0m\u001b[1;31m:\u001b[0m invalid syntax\n"
     ]
    }
   ],
   "source": [
    "# Write a Python Program to find largest element in an array?\n",
    "max = 0\n",
    "for i in arr :\n",
    "    if i > max :\n",
    "        max = i\n",
    "print('Maximum of array is: ', max)"
   ]
  },
  {
   "cell_type": "code",
   "execution_count": 62,
   "id": "0a5a30ab",
   "metadata": {},
   "outputs": [
    {
     "name": "stdout",
     "output_type": "stream",
     "text": [
      "Enter n between 0 to 4: 4\n",
      "Enter your direction L or R: l\n",
      "4 rotation of array is: [91, 3, 65, 72, 4]\n"
     ]
    }
   ],
   "source": [
    "# Write a Python Program for array rotation?\n",
    "def rotate(arr , n, d ):\n",
    "    '''\n",
    "    Rotate array n step to left or right as selected by input parameters\n",
    "    n : step of rotate\n",
    "    d : direction of rotation\n",
    "    '''\n",
    "        if n < len(arr):\n",
    "            if d == 'l' :\n",
    "                temp = arr[:n]\n",
    "                arr[:] = arr[n:] + temp\n",
    "                return arr\n",
    "            elif d == 'r':\n",
    "                temp = arr[:-n]\n",
    "                arr[:] =  arr[-n:] + temp\n",
    "                return arr \n",
    "            else :\n",
    "                print('Please enter correct direction ') \n",
    "        else:\n",
    "            print(f'Please Enter n less than arry size ') \n",
    "\n",
    "\n",
    "arr = [3,65,72,4,91]\n",
    "n = int(input(f'Enter n between 0 to {len(arr)-1}: '))\n",
    "d = input('Enter your direction L or R: ').lower()\n",
    "print(f'{n} rotation of array is: {rotate(arr ,n ,d)}')"
   ]
  },
  {
   "cell_type": "code",
   "execution_count": 64,
   "id": "27390e42",
   "metadata": {},
   "outputs": [
    {
     "name": "stdout",
     "output_type": "stream",
     "text": [
      "Enter n between 0 to 4: 3\n",
      "3 rotation of array is: [4, 91, 3, 65, 72]\n"
     ]
    }
   ],
   "source": [
    "# Write a Python Program to Split the array and add the first part to the end?\n",
    "\n",
    "def split_swap(arr , n ):\n",
    "    '''\n",
    "    split array into to part and swap the parts \n",
    "    '''\n",
    "        if n < len(arr):\n",
    "            temp = arr[:n]\n",
    "            arr[:] = arr[n:] + temp\n",
    "            return arr\n",
    "        else :\n",
    "            print('Enter a number less than len of array')\n",
    "\n",
    "arr = [3,65,72,4,91]\n",
    "n = int(input(f'Enter n between 0 to {len(arr)-1}: '))\n",
    "print(f'{n} swap of array is: {split_swap(arr ,n)}')"
   ]
  },
  {
   "cell_type": "code",
   "execution_count": 72,
   "id": "44b00cef",
   "metadata": {},
   "outputs": [
    {
     "name": "stdout",
     "output_type": "stream",
     "text": [
      "The array is Monotonic\n"
     ]
    }
   ],
   "source": [
    "# Write a Python Program to check if given array is Monotonic?\n",
    "\n",
    "def is_monotonic(arr) :\n",
    "    '''\n",
    "    Check if the array is Monotoronic or not\n",
    "    '''\n",
    "    return all([arr[i] < arr[i+1] for i in range(len(arr)-1)]) or all([arr[i] > arr[i+1] for i in range(len(arr)-1)])\n",
    "\n",
    "arr= [65 , 32,2]\n",
    "if is_monotonic(arr) :\n",
    "    print('The array is Monotonic')\n",
    "else: \n",
    "     print('The array is not Monotonic')\n"
   ]
  },
  {
   "cell_type": "code",
   "execution_count": null,
   "id": "bf5193e1",
   "metadata": {},
   "outputs": [],
   "source": []
  }
 ],
 "metadata": {
  "kernelspec": {
   "display_name": "Python 3 (ipykernel)",
   "language": "python",
   "name": "python3"
  },
  "language_info": {
   "codemirror_mode": {
    "name": "ipython",
    "version": 3
   },
   "file_extension": ".py",
   "mimetype": "text/x-python",
   "name": "python",
   "nbconvert_exporter": "python",
   "pygments_lexer": "ipython3",
   "version": "3.8.12"
  }
 },
 "nbformat": 4,
 "nbformat_minor": 5
}
