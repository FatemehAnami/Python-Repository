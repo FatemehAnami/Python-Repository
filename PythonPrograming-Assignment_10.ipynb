{
 "cells": [
  {
   "cell_type": "markdown",
   "id": "ed83b54b",
   "metadata": {},
   "source": [
    "###### Python Programing  Assignment 10\n",
    "\n",
    "1.\tWrite a Python program to find sum of elements in list?\n",
    "2.\tWrite a Python program to  Multiply all numbers in the list?\n",
    "3.\tWrite a Python program to find smallest number in a list?\n",
    "4.\tWrite a Python program to find largest number in a list?\n",
    "5.\tWrite a Python program to find second largest number in a list?\n",
    "6.\tWrite a Python program to find N largest elements from a list?\n",
    "7.\tWrite a Python program to print even numbers in a list?\n",
    "8.\tWrite a Python program to print odd numbers in a List?\n",
    "9.\tWrite a Python program to Remove empty List from List?\n",
    "10.\tWrite a Python program to Cloning or Copying a list?\n",
    "11.\tWrite a Python program to Count occurrences of an element in a list?\n"
   ]
  },
  {
   "cell_type": "code",
   "execution_count": 33,
   "id": "1b0e7901",
   "metadata": {},
   "outputs": [
    {
     "name": "stdout",
     "output_type": "stream",
     "text": [
      "42.400000000000006\n",
      "36me5you\n"
     ]
    }
   ],
   "source": [
    "# Write a Python program to find sum of elements in list?\n",
    "class list_sum:\n",
    "    '''\n",
    "    Check list members are number or string then try to calculate sum based on type\n",
    "    '''\n",
    "    \n",
    "    def __init__(self,lst):\n",
    "        self.lst = lst\n",
    "        \n",
    "    def is_number(self) :\n",
    "        try:\n",
    "            for i in self.lst :\n",
    "                if float(i) :\n",
    "                    continue\n",
    "            return True\n",
    "        except:\n",
    "            return False\n",
    "    \n",
    "    \n",
    "        \n",
    "    def list_sum_number(self):\n",
    "        sum = 0\n",
    "        for i in self.lst :\n",
    "            sum = sum + float(i)\n",
    "        return sum\n",
    "    \n",
    "    def list_sum_other(self):\n",
    "        sum = ''\n",
    "        for i in self.lst :\n",
    "            sum = sum +  str(i)\n",
    "        return sum\n",
    "\n",
    "    def sum_list_member(self) :\n",
    "        if self.is_number() :\n",
    "            return self.list_sum_number()\n",
    "        else :\n",
    "            return self.list_sum_other()\n",
    "\n",
    "\n",
    "lst1 = [3,6,7.3, 26.1]\n",
    "lst2 = [3, 6 , 'me' , 5 , 'you']\n",
    "print(list_sum(lst1).sum_list_member())\n",
    "print(list_sum(lst2).sum_list_member())"
   ]
  },
  {
   "cell_type": "code",
   "execution_count": 47,
   "id": "e6014250",
   "metadata": {},
   "outputs": [
    {
     "name": "stdout",
     "output_type": "stream",
     "text": [
      "3429.5400000000004\n",
      "All List members are not numbers\n"
     ]
    }
   ],
   "source": [
    "# Write a Python program to Multiply all numbers in the list?\n",
    "class list_product:\n",
    "    '''\n",
    "    Check list members are number or string then try to calculate sum based on type\n",
    "    '''\n",
    "    \n",
    "    def __init__(self,lst):\n",
    "        self.lst = lst\n",
    "        \n",
    "    def is_number(self) :\n",
    "        try:\n",
    "            for i in self.lst :\n",
    "                if float(i) :\n",
    "                    continue\n",
    "            return True\n",
    "        except:\n",
    "            return False\n",
    "    \n",
    "    \n",
    "        \n",
    "    def list_product_number(self):\n",
    "        product = 1\n",
    "        for i in self.lst :\n",
    "            product = product * float(i)\n",
    "        return product\n",
    "    \n",
    "    def product_list_member(self) :\n",
    "        if self.is_number() :\n",
    "            return self.list_product_number()\n",
    "        else :\n",
    "            return 'All List members are not numbers'\n",
    "\n",
    "\n",
    "lst1 = [3,6,7.3, 26.1]\n",
    "lst2 = [3, 6 , 'me' , 5 , 'you']\n",
    "print(list_product(lst1).product_list_member())\n",
    "print(list_product(lst2).product_list_member())"
   ]
  },
  {
   "cell_type": "code",
   "execution_count": 60,
   "id": "7792be9a",
   "metadata": {},
   "outputs": [
    {
     "name": "stdout",
     "output_type": "stream",
     "text": [
      "[3, 6, 7.3, 26.1]\n",
      "['you', 'me', '6', '5', '3']\n"
     ]
    }
   ],
   "source": [
    "# Write a Python program to find smallest number in a list?\n",
    "class list_sort:\n",
    "    '''\n",
    "    Check list members are number or string then try to calculate sum based on type\n",
    "    '''\n",
    "    \n",
    "    def __init__(self,lst):\n",
    "        self.lst = lst\n",
    "        \n",
    "    def is_number(self) :\n",
    "        try:\n",
    "            for i in self.lst :\n",
    "                if float(i) :\n",
    "                    continue\n",
    "            return True\n",
    "        except:\n",
    "            return False\n",
    " \n",
    "    def to_str(self):\n",
    "        lst = []\n",
    "        for i in self.lst:\n",
    "            lst.append(str(i))\n",
    "        return lst\n",
    "            \n",
    "    def sort_list_member(self, ascending = True) :\n",
    "        if not(self.is_number()) :\n",
    "            self.lst = self.to_str()\n",
    "        if ascending == False :\n",
    "            self.lst.sort(reverse= True )\n",
    "            return self.lst\n",
    "        else :\n",
    "            self.lst.sort()\n",
    "            return self.lst\n",
    "\n",
    "\n",
    "lst1 = [3,6,7.3, 26.1]\n",
    "lst2 = [3, 6 , 'me' , 5 , 'you']\n",
    "print(list_sort(lst1).sort_list_member())\n",
    "print(list_sort(lst2).sort_list_member(ascending= False))"
   ]
  },
  {
   "cell_type": "code",
   "execution_count": 61,
   "id": "86a7fa3e",
   "metadata": {},
   "outputs": [
    {
     "name": "stdout",
     "output_type": "stream",
     "text": [
      "The smallest member of list is:  3\n"
     ]
    }
   ],
   "source": [
    "# Write a Python program to find smallest number in a list?\n",
    "print('The smallest member of list is: ' , list_sort(lst1).sort_list_member()[0])"
   ]
  },
  {
   "cell_type": "code",
   "execution_count": 62,
   "id": "c8830170",
   "metadata": {},
   "outputs": [
    {
     "name": "stdout",
     "output_type": "stream",
     "text": [
      "The smallest member of list is:  26.1\n"
     ]
    }
   ],
   "source": [
    "# Write a Python program to find largest number in a list?\n",
    "print('The smallest member of list is: ' , list_sort(lst1).sort_list_member(ascending= False)[0])"
   ]
  },
  {
   "cell_type": "code",
   "execution_count": 63,
   "id": "0839dc02",
   "metadata": {},
   "outputs": [
    {
     "name": "stdout",
     "output_type": "stream",
     "text": [
      "The smallest member of list is:  7.3\n"
     ]
    }
   ],
   "source": [
    "# Write a Python program to find second largest number in a list?\n",
    "print('The smallest member of list is: ' , list_sort(lst1).sort_list_member(ascending= False)[1])"
   ]
  },
  {
   "cell_type": "code",
   "execution_count": 68,
   "id": "99db1b83",
   "metadata": {},
   "outputs": [
    {
     "name": "stdout",
     "output_type": "stream",
     "text": [
      "Please enter N to return N largest elements: 2\n",
      "The smallest member of list is:  7.3\n"
     ]
    }
   ],
   "source": [
    "# Write a Python program to find N largest elements from a list?\n",
    "try:\n",
    "    n = int(input('Please enter N to return N largest elements: '))\n",
    "    print('The smallest member of list is: ' , list_sort(lst1).sort_list_member(ascending= False)[n-1])\n",
    "except: \n",
    "    print('Please enter N between 1 to 4')"
   ]
  },
  {
   "cell_type": "code",
   "execution_count": 92,
   "id": "645ffc9e",
   "metadata": {},
   "outputs": [
    {
     "name": "stdout",
     "output_type": "stream",
     "text": [
      "list of even elements:  [6]\n"
     ]
    }
   ],
   "source": [
    "# Write a Python program to print even numbers in a list?\n",
    "class list_process:\n",
    "    '''\n",
    "    Check list members are number or string then try to calculate sum based on type\n",
    "    '''\n",
    "    \n",
    "    def __init__(self,lst):\n",
    "        self.lst = lst\n",
    "        \n",
    "    def odd(self) :\n",
    "        result = []\n",
    "        for i in self.lst :\n",
    "            try: \n",
    "                if float(i) % 2 == 1 :\n",
    "                    result.append(i)\n",
    "            except:\n",
    "                pass\n",
    "        return result\n",
    "    \n",
    "    def even(self) :\n",
    "        result = []\n",
    "        for i in self.lst :\n",
    "            try: \n",
    "                if float(i) % 2 == 0 :\n",
    "                    result.append(i)\n",
    "            except:\n",
    "                pass\n",
    "        return result\n",
    "    \n",
    "    def delete_empty_elements(self):\n",
    "        result = []\n",
    "        for i in self.lst :\n",
    "            if str(i ) != '' :\n",
    "                result.append(i)\n",
    "        return result   \n",
    "    \n",
    "    def copy_elements(self):\n",
    "        result = []\n",
    "        for i in self.lst :\n",
    "            result.append(i)\n",
    "        return result   \n",
    "\n",
    "    def count_occurrences_elements(self):\n",
    "        result = {}\n",
    "        count = 0\n",
    "        for i in self.lst :\n",
    "            for j in range(len(self.lst)):\n",
    "                if str(self.lst[j]) == str(i):\n",
    "                    count = count + 1\n",
    "            result[str(i)] = count\n",
    "            count = 0\n",
    "        return result \n",
    "\n",
    "lst1 = [3,6,7.3,3 ,26.1 ,'yes', 'yes', '', 'yes']\n",
    "print('list of even elements: ',list_process(lst1).even())"
   ]
  },
  {
   "cell_type": "code",
   "execution_count": 71,
   "id": "411c0126",
   "metadata": {},
   "outputs": [
    {
     "name": "stdout",
     "output_type": "stream",
     "text": [
      "list of odd elements:  [3]\n"
     ]
    }
   ],
   "source": [
    "# Write a Python program to print odd numbers in a List?\n",
    "print('list of odd elements: ' , list_process(lst1).odd())"
   ]
  },
  {
   "cell_type": "code",
   "execution_count": 80,
   "id": "7278277b",
   "metadata": {},
   "outputs": [
    {
     "name": "stdout",
     "output_type": "stream",
     "text": [
      "Object `List` not found.\n",
      "list of even elements:  [3, 6, 7.3, 26.1, 'yes', 'yes']\n"
     ]
    }
   ],
   "source": [
    "Write a Python program to Remove empty List from List?\n",
    "print('list of even elements: ',list_process(lst1).delete_empty_elements())"
   ]
  },
  {
   "cell_type": "code",
   "execution_count": 81,
   "id": "ebcde197",
   "metadata": {},
   "outputs": [
    {
     "name": "stdout",
     "output_type": "stream",
     "text": [
      "list of even elements:  [3, 6, 7.3, 26.1, 'yes', 'yes', '']\n"
     ]
    }
   ],
   "source": [
    "# Write a Python program to Cloning or Copying a list?\n",
    "lst = []\n",
    "lst = list_process(lst1).copy_elements()\n",
    "print('list of even elements: ', lst)"
   ]
  },
  {
   "cell_type": "code",
   "execution_count": 93,
   "id": "700c3787",
   "metadata": {},
   "outputs": [
    {
     "name": "stdout",
     "output_type": "stream",
     "text": [
      "count of recurrance is:  {'3': 2, '6': 1, '7.3': 1, '26.1': 1, 'yes': 3, '': 1}\n"
     ]
    }
   ],
   "source": [
    "# Write a Python program to Count occurrences of an element in a list?\n",
    "result = list_process(lst1).count_occurrences_elements()\n",
    "print('count of recurrance is: ', result)"
   ]
  },
  {
   "cell_type": "code",
   "execution_count": null,
   "id": "4fda2de7",
   "metadata": {},
   "outputs": [],
   "source": []
  }
 ],
 "metadata": {
  "kernelspec": {
   "display_name": "Python 3 (ipykernel)",
   "language": "python",
   "name": "python3"
  },
  "language_info": {
   "codemirror_mode": {
    "name": "ipython",
    "version": 3
   },
   "file_extension": ".py",
   "mimetype": "text/x-python",
   "name": "python",
   "nbconvert_exporter": "python",
   "pygments_lexer": "ipython3",
   "version": "3.8.12"
  }
 },
 "nbformat": 4,
 "nbformat_minor": 5
}
