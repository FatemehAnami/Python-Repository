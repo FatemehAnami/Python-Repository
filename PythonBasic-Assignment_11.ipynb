{
 "cells": [
  {
   "cell_type": "markdown",
   "id": "aba0b624",
   "metadata": {},
   "source": [
    "### 1. Create an assert statement that throws an AssertionError if the variable spam is a negative integer."
   ]
  },
  {
   "cell_type": "code",
   "execution_count": 4,
   "id": "3058ec2e",
   "metadata": {},
   "outputs": [
    {
     "ename": "AssertionError",
     "evalue": "The input should not be negative",
     "output_type": "error",
     "traceback": [
      "\u001b[1;31m---------------------------------------------------------------------------\u001b[0m",
      "\u001b[1;31mAssertionError\u001b[0m                            Traceback (most recent call last)",
      "\u001b[1;32m~\\AppData\\Local\\Temp/ipykernel_9572/1247979954.py\u001b[0m in \u001b[0;36m<module>\u001b[1;34m\u001b[0m\n\u001b[0;32m      1\u001b[0m \u001b[0mspam\u001b[0m \u001b[1;33m=\u001b[0m \u001b[1;36m0\u001b[0m\u001b[1;33m\u001b[0m\u001b[1;33m\u001b[0m\u001b[0m\n\u001b[1;32m----> 2\u001b[1;33m \u001b[1;32massert\u001b[0m \u001b[0mspam\u001b[0m \u001b[1;33m>\u001b[0m\u001b[1;36m0\u001b[0m\u001b[1;33m,\u001b[0m\u001b[1;34m'The input should not be negative'\u001b[0m\u001b[1;33m\u001b[0m\u001b[1;33m\u001b[0m\u001b[0m\n\u001b[0m\u001b[0;32m      3\u001b[0m \u001b[1;33m\u001b[0m\u001b[0m\n\u001b[0;32m      4\u001b[0m \u001b[0mspam\u001b[0m \u001b[1;33m=\u001b[0m \u001b[1;33m-\u001b[0m\u001b[1;36m4\u001b[0m\u001b[1;33m\u001b[0m\u001b[1;33m\u001b[0m\u001b[0m\n",
      "\u001b[1;31mAssertionError\u001b[0m: The input should not be negative"
     ]
    }
   ],
   "source": [
    "spam = 0 \n",
    "assert spam >0,'The input should not be negative'\n",
    "\n",
    "spam = -4"
   ]
  },
  {
   "cell_type": "markdown",
   "id": "cfb1f994",
   "metadata": {},
   "source": [
    "### 2. Write an assert statement that triggers an AssertionError if the variables eggs and bacon contain strings that are the same as each other, even if their cases are different (that is, 'hello' and 'hello' are considered the same, and 'goodbye' and 'GOODbye' are also considered the same)."
   ]
  },
  {
   "cell_type": "code",
   "execution_count": 26,
   "id": "8f21608b",
   "metadata": {},
   "outputs": [
    {
     "name": "stdout",
     "output_type": "stream",
     "text": [
      "Enter your first string: Hello\n",
      "Enter your Second string: hi\n"
     ]
    },
    {
     "ename": "AssertionError",
     "evalue": "The input strings are not same",
     "output_type": "error",
     "traceback": [
      "\u001b[1;31m---------------------------------------------------------------------------\u001b[0m",
      "\u001b[1;31mAssertionError\u001b[0m                            Traceback (most recent call last)",
      "\u001b[1;32m~\\AppData\\Local\\Temp/ipykernel_9572/3853037567.py\u001b[0m in \u001b[0;36m<module>\u001b[1;34m\u001b[0m\n\u001b[0;32m      2\u001b[0m \u001b[0mbacon\u001b[0m \u001b[1;33m=\u001b[0m \u001b[0minput\u001b[0m\u001b[1;33m(\u001b[0m\u001b[1;34m'Enter your Second string: '\u001b[0m\u001b[1;33m)\u001b[0m\u001b[1;33m\u001b[0m\u001b[1;33m\u001b[0m\u001b[0m\n\u001b[0;32m      3\u001b[0m \u001b[1;33m\u001b[0m\u001b[0m\n\u001b[1;32m----> 4\u001b[1;33m \u001b[1;32massert\u001b[0m \u001b[0megg\u001b[0m\u001b[1;33m.\u001b[0m\u001b[0mupper\u001b[0m\u001b[1;33m(\u001b[0m\u001b[1;33m)\u001b[0m \u001b[1;33m==\u001b[0m \u001b[0mbacon\u001b[0m\u001b[1;33m.\u001b[0m\u001b[0mupper\u001b[0m\u001b[1;33m(\u001b[0m\u001b[1;33m)\u001b[0m\u001b[1;33m,\u001b[0m \u001b[1;34m'The input strings are not same'\u001b[0m\u001b[1;33m\u001b[0m\u001b[1;33m\u001b[0m\u001b[0m\n\u001b[0m\u001b[0;32m      5\u001b[0m \u001b[1;33m\u001b[0m\u001b[0m\n",
      "\u001b[1;31mAssertionError\u001b[0m: The input strings are not same"
     ]
    }
   ],
   "source": [
    "egg = input('Enter your first string: ')\n",
    "bacon = input('Enter your Second string: ')\n",
    "\n",
    "assert egg.upper() == bacon.upper(), 'The input strings are not same'\n",
    "\n"
   ]
  },
  {
   "cell_type": "markdown",
   "id": "eb9ae80b",
   "metadata": {},
   "source": [
    "### 3. Create an assert statement that throws an AssertionError every time."
   ]
  },
  {
   "cell_type": "code",
   "execution_count": 34,
   "id": "01bb234c",
   "metadata": {},
   "outputs": [
    {
     "ename": "AssertionError",
     "evalue": "The input is always wrong",
     "output_type": "error",
     "traceback": [
      "\u001b[1;31m---------------------------------------------------------------------------\u001b[0m",
      "\u001b[1;31mAssertionError\u001b[0m                            Traceback (most recent call last)",
      "\u001b[1;32m~\\AppData\\Local\\Temp/ipykernel_9572/2673122616.py\u001b[0m in \u001b[0;36m<module>\u001b[1;34m\u001b[0m\n\u001b[1;32m----> 1\u001b[1;33m \u001b[1;32massert\u001b[0m \u001b[1;32mFalse\u001b[0m\u001b[1;33m,\u001b[0m \u001b[1;34m'The input is always wrong'\u001b[0m\u001b[1;33m\u001b[0m\u001b[1;33m\u001b[0m\u001b[0m\n\u001b[0m",
      "\u001b[1;31mAssertionError\u001b[0m: The input is always wrong"
     ]
    }
   ],
   "source": [
    "assert False, 'The input is always wrong'"
   ]
  },
  {
   "cell_type": "markdown",
   "id": "5b38352a",
   "metadata": {},
   "source": [
    "### 4. What are the two lines that must be present in your software in order to call logging.debug()?"
   ]
  },
  {
   "cell_type": "code",
   "execution_count": 35,
   "id": "855cb1de",
   "metadata": {},
   "outputs": [],
   "source": [
    "import logging as lg # To import necessary library for logging \n",
    "\n",
    "lg.basicConfig(level = lg.DEBUG , format = '%(asctime)s - %(name)s - %(levelname)s - %(message)s') \n",
    "# which the value of arguments can be different based on our needs"
   ]
  },
  {
   "cell_type": "markdown",
   "id": "63e6f8c5",
   "metadata": {},
   "source": [
    "### 5. What are the two lines that your program must have in order to have logging.debug() send a logging message to a file named programLog.txt?"
   ]
  },
  {
   "cell_type": "code",
   "execution_count": 36,
   "id": "bb556736",
   "metadata": {},
   "outputs": [],
   "source": [
    "import logging as lg\n",
    "\n",
    "lg.basicConfig(filename = 'programLog.txt' , level = lg.DEBUG , format = '%(asctime)s - %(name)s - %(levelname)s - %(message)s') \n",
    "# which the value of arguments can be different based on our needs"
   ]
  },
  {
   "cell_type": "markdown",
   "id": "b89aa0b9",
   "metadata": {},
   "source": [
    "### 6. What are the five levels of logging? \n",
    "* They are DEBUG, INFO, WARNING, ERROR, and CRITICAL"
   ]
  },
  {
   "cell_type": "markdown",
   "id": "f2ca3a6e",
   "metadata": {},
   "source": [
    "### 7. What line of code would you add to your software to disable all logging messages?"
   ]
  },
  {
   "cell_type": "code",
   "execution_count": 37,
   "id": "856213f5",
   "metadata": {},
   "outputs": [],
   "source": [
    "lg.disable(level = lg.CRITICAL) # Disable this type of log ad all the log level under it which will be all type of logs "
   ]
  },
  {
   "cell_type": "markdown",
   "id": "32cda371",
   "metadata": {},
   "source": [
    "### 8.Why is using logging messages better than using print() to display the same message?\n",
    "* we can create custome message for our log with time and name and message of error\n",
    "* we can disable all the log with one code but in print we should make all comment one by one\n",
    "* we can save history of logs automatically for future review, for each time we run our code\n",
    "* It will collect in one file and it is easier to follow the errors "
   ]
  },
  {
   "cell_type": "markdown",
   "id": "86b31b97",
   "metadata": {},
   "source": [
    "### 9. What are the differences between the Step Over, Step In, and Step Out buttons in the debugger?\n",
    "* Step Over : if you have any function or for it will run that part compeletly \n",
    "\n",
    "     -> for i in range(10):   # Current location\n",
    "            x+=1\n",
    "     -> it will come directly here and does not trace for loop\n",
    "* Step Into : it will step into the function for example \n",
    "\n",
    "    sum (a , b):\n",
    "        s = a + b   <- step into will stop here\n",
    "        return s\n",
    " -> sum(2,3)    # Current location\n",
    "    \n",
    "* Step Out : it will run the function till you back one level up for example \n",
    "\n",
    "    sum(a , b): \n",
    "       -> func1(a)   # Current location\n",
    "          func2(b)\n",
    "          return a + b\n",
    "    -> location after step out will be here    # it will run func1 , func2 and come out of sum function and stop for next step\n",
    "    "
   ]
  },
  {
   "cell_type": "markdown",
   "id": "3eec42fc",
   "metadata": {},
   "source": [
    "### 10.After you click Continue, when will the debugger stop ?\n",
    "* will run the code and only will stop if it reach to a brakpoint."
   ]
  },
  {
   "cell_type": "markdown",
   "id": "9345306b",
   "metadata": {},
   "source": [
    "### 11. What is the concept of a breakpoint?\n",
    "* Our code will run from start or previous breakpoint to that special point and debugger will stop there for our next click. "
   ]
  },
  {
   "cell_type": "code",
   "execution_count": null,
   "id": "be0b598a",
   "metadata": {},
   "outputs": [],
   "source": []
  }
 ],
 "metadata": {
  "kernelspec": {
   "display_name": "Python 3 (ipykernel)",
   "language": "python",
   "name": "python3"
  },
  "language_info": {
   "codemirror_mode": {
    "name": "ipython",
    "version": 3
   },
   "file_extension": ".py",
   "mimetype": "text/x-python",
   "name": "python",
   "nbconvert_exporter": "python",
   "pygments_lexer": "ipython3",
   "version": "3.8.12"
  }
 },
 "nbformat": 4,
 "nbformat_minor": 5
}
