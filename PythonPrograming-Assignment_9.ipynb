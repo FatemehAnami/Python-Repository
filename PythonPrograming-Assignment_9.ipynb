{
 "cells": [
  {
   "cell_type": "markdown",
   "id": "ed83b54b",
   "metadata": {},
   "source": [
    "###### Python Programing  Assignment 9\n",
    "\n",
    "1.\tWrite a Python program to check if the given number is a Disarium Number?\n",
    "2.\tWrite a Python program to print all disarium numbers between 1 to 100?\n",
    "3.\tWrite a Python program to check if the given number is Happy Number?\n",
    "4.\tWrite a Python program to print all happy numbers between 1 and 100?\n",
    "5.\tWrite a Python program to determine whether the given number is a Harshad Number?\n",
    "6.\tWrite a Python program to print all pronic numbers between 1 and 100?\n"
   ]
  },
  {
   "cell_type": "code",
   "execution_count": 10,
   "id": "1b0e7901",
   "metadata": {},
   "outputs": [
    {
     "name": "stdout",
     "output_type": "stream",
     "text": [
      "Enter a number for checking isarium: 175\n",
      "The number is Disarium  True\n"
     ]
    }
   ],
   "source": [
    "# Write a Python program to check if the given number is a Disarium Number?\n",
    "def is_disarium(number):\n",
    "    '''\n",
    "    This finction check whether if a number is disarium or not and return True or False\n",
    "    '''\n",
    "    n = len(str(number))\n",
    "    sumofpower = number\n",
    "    while number > 0 :\n",
    "        digit = number % 10\n",
    "        sumofpower = sumofpower - digit ** n \n",
    "        number = number // 10\n",
    "        n -=1\n",
    "\n",
    "    if sumofpower == 0:\n",
    "        return True\n",
    "    else :\n",
    "        return False\n",
    "\n",
    "n = int(input(f'Enter a number for checking isarium: '))\n",
    "print('The number is Disarium ', is_disarium(n))"
   ]
  },
  {
   "cell_type": "code",
   "execution_count": 11,
   "id": "4bdbfdb2",
   "metadata": {},
   "outputs": [
    {
     "name": "stdout",
     "output_type": "stream",
     "text": [
      "The 1 is Disarium\n",
      "The 2 is Disarium\n",
      "The 3 is Disarium\n",
      "The 4 is Disarium\n",
      "The 5 is Disarium\n",
      "The 6 is Disarium\n",
      "The 7 is Disarium\n",
      "The 8 is Disarium\n",
      "The 9 is Disarium\n",
      "The 89 is Disarium\n"
     ]
    }
   ],
   "source": [
    "# Write a Python program to print all disarium numbers between 1 to 100?\n",
    "for i in range(1, 100): \n",
    "    if is_disarium(i) :\n",
    "        print(f'The {i} is Disarium')"
   ]
  },
  {
   "cell_type": "code",
   "execution_count": 16,
   "id": "17289efd",
   "metadata": {},
   "outputs": [
    {
     "name": "stdout",
     "output_type": "stream",
     "text": [
      "Enter a Happy Number: 4\n",
      "The number is Happy  False\n"
     ]
    }
   ],
   "source": [
    "# Write a Python program to check if the given number is Happy Number?\n",
    "def is_happynumber(number, visited):\n",
    "    \n",
    "    '''\n",
    "    This finction check whether if a number is Happy number or not and return True or False\n",
    "    '''\n",
    "    if number == 1 :\n",
    "        return True\n",
    "    if number in visited.keys() :\n",
    "        return False\n",
    "    visited[number] = 1\n",
    "    sumofpower=0\n",
    "    while number > 0 :\n",
    "        digit = number % 10\n",
    "        sumofpower = sumofpower + digit ** 2 \n",
    "        number = number // 10\n",
    "    return is_happynumber(sumofpower , visited)\n",
    "\n",
    "n = int(input(f'Enter a Happy Number: '))\n",
    "print('The number is Happy ', is_happynumber(n, {})) "
   ]
  },
  {
   "cell_type": "code",
   "execution_count": 17,
   "id": "67a12719",
   "metadata": {},
   "outputs": [
    {
     "name": "stdout",
     "output_type": "stream",
     "text": [
      "The 1 is Happy Number\n",
      "The 7 is Happy Number\n",
      "The 10 is Happy Number\n",
      "The 13 is Happy Number\n",
      "The 19 is Happy Number\n",
      "The 23 is Happy Number\n",
      "The 28 is Happy Number\n",
      "The 31 is Happy Number\n",
      "The 32 is Happy Number\n",
      "The 44 is Happy Number\n",
      "The 49 is Happy Number\n",
      "The 68 is Happy Number\n",
      "The 70 is Happy Number\n",
      "The 79 is Happy Number\n",
      "The 82 is Happy Number\n",
      "The 86 is Happy Number\n",
      "The 91 is Happy Number\n",
      "The 94 is Happy Number\n",
      "The 97 is Happy Number\n"
     ]
    }
   ],
   "source": [
    "# Write a Python program to print all happy numbers between 1 and 100?\n",
    "for i in range(1, 100): \n",
    "    if is_happynumber(i, {}) :\n",
    "        print(f'The {i} is Happy Number')"
   ]
  },
  {
   "cell_type": "code",
   "execution_count": 20,
   "id": "065ac9a2",
   "metadata": {},
   "outputs": [
    {
     "name": "stdout",
     "output_type": "stream",
     "text": [
      "Enter a Harshad Number: 1729\n",
      "The number is Harshad  True\n"
     ]
    }
   ],
   "source": [
    "# Write a Python program to determine whether the given number is a Harshad Number?\n",
    "def is_harshad_number(number):\n",
    "    \n",
    "    '''\n",
    "    This finction check whether if a number is Harshad number or not and return True or False\n",
    "    '''\n",
    "    sumofdigit= 0\n",
    "    for i in str(number):\n",
    "        sumofdigit = sumofdigit + int(i)\n",
    "    if number % sumofdigit == 0 :\n",
    "        return True\n",
    "    else :\n",
    "        return False\n",
    "\n",
    "n = int(input(f'Enter a Harshad Number: '))\n",
    "print('The number is Harshad ', is_harshad_number(n)) "
   ]
  },
  {
   "cell_type": "code",
   "execution_count": 21,
   "id": "d22dd215",
   "metadata": {},
   "outputs": [
    {
     "name": "stdout",
     "output_type": "stream",
     "text": [
      "The 1 is Harashad Number\n",
      "The 2 is Harashad Number\n",
      "The 3 is Harashad Number\n",
      "The 4 is Harashad Number\n",
      "The 5 is Harashad Number\n",
      "The 6 is Harashad Number\n",
      "The 7 is Harashad Number\n",
      "The 8 is Harashad Number\n",
      "The 9 is Harashad Number\n",
      "The 10 is Harashad Number\n",
      "The 12 is Harashad Number\n",
      "The 18 is Harashad Number\n",
      "The 20 is Harashad Number\n",
      "The 21 is Harashad Number\n",
      "The 24 is Harashad Number\n",
      "The 27 is Harashad Number\n",
      "The 30 is Harashad Number\n",
      "The 36 is Harashad Number\n",
      "The 40 is Harashad Number\n",
      "The 42 is Harashad Number\n",
      "The 45 is Harashad Number\n",
      "The 48 is Harashad Number\n",
      "The 50 is Harashad Number\n",
      "The 54 is Harashad Number\n",
      "The 60 is Harashad Number\n",
      "The 63 is Harashad Number\n",
      "The 70 is Harashad Number\n",
      "The 72 is Harashad Number\n",
      "The 80 is Harashad Number\n",
      "The 81 is Harashad Number\n",
      "The 84 is Harashad Number\n",
      "The 90 is Harashad Number\n"
     ]
    }
   ],
   "source": [
    "# Write a Python program to print all pronic numbers between 1 and 100?\n",
    "for i in range(1, 100): \n",
    "    if is_harshad_number(i) :\n",
    "        print(f'The {i} is Harashad Number')"
   ]
  },
  {
   "cell_type": "code",
   "execution_count": null,
   "id": "cc2cdafc",
   "metadata": {},
   "outputs": [],
   "source": []
  }
 ],
 "metadata": {
  "kernelspec": {
   "display_name": "Python 3 (ipykernel)",
   "language": "python",
   "name": "python3"
  },
  "language_info": {
   "codemirror_mode": {
    "name": "ipython",
    "version": 3
   },
   "file_extension": ".py",
   "mimetype": "text/x-python",
   "name": "python",
   "nbconvert_exporter": "python",
   "pygments_lexer": "ipython3",
   "version": "3.8.12"
  }
 },
 "nbformat": 4,
 "nbformat_minor": 5
}
