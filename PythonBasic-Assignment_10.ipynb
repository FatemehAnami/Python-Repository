{
 "cells": [
  {
   "cell_type": "code",
   "execution_count": 1,
   "id": "a317d35b",
   "metadata": {},
   "outputs": [],
   "source": [
    "import os\n",
    "import shutil"
   ]
  },
  {
   "cell_type": "markdown",
   "id": "c12e8361",
   "metadata": {},
   "source": [
    "1.\tHow do you distinguish between shutil.copy() and shutil.copytree()?\n",
    "\n",
    "`shutil.copy()`     will copy a single file, \n",
    "`shutil.copytree()` will copy an entire folder and every folder and file contained in it\n",
    "\n",
    "2.\tWhat function is used to rename files?\n",
    "\n",
    "`os.rename()` is used for rename file and even directory \n",
    "\n",
    "3.\tWhat is the difference between the delete functions in the send2trash and shutil modules?\n",
    "\n",
    "In `send2trash` a file or folder with move to the recycle bin but `shutil` will permanently delete files and folders.\n",
    "\n",
    "4.\tZipFile objects have a close() method just like File objects’ close() method. What ZipFile method is equivalent to File objects’ open() method?\n",
    "\n",
    "We can use `zipfile. ZipFile()` function for opening ZipFile objects, in this function first parameter is file name and second one is mode of opeing.\n",
    "\n",
    "5.\tCreate a programme that searches a folder tree for files with a certain file extension (such as .pdf or .jpg). Copy these files from whatever location they are in to a new folder."
   ]
  },
  {
   "cell_type": "code",
   "execution_count": 58,
   "id": "a17bbd22",
   "metadata": {},
   "outputs": [],
   "source": [
    "def copyfiles(source , extention , destination):\n",
    "    '''\n",
    "    This function search through the path and find all the file with given extentions \n",
    "    \n",
    "    Parameters:\n",
    "    *source : type is str, path to search for files and subfolders in the path should be seperated by \\\\\\ as python rules\n",
    "    *extention : type is str or listwise, extention of file that the function should search for such as pdf , jpg\n",
    "    *destination : type is str, path for copying files and subfolders in the path should be seperated by \\\\\\ as python rules\n",
    "    '''\n",
    "    try :\n",
    "        for foldername , subfolders , filenames in os.walk(source) :\n",
    "            for filename in filenames :\n",
    "                file_extention = os.path.splitext(filename)[1]\n",
    "                if  file_extention[1:] in extention:\n",
    "                    shutil.copy(os.path.join(foldername,filename) , destination)\n",
    "                    print(f'Copy {filename}  from  {foldername}')\n",
    "    except Exception as e:\n",
    "           print(f'Some Exception {e} happened ')"
   ]
  },
  {
   "cell_type": "code",
   "execution_count": 55,
   "id": "6dbc1572",
   "metadata": {},
   "outputs": [
    {
     "name": "stdout",
     "output_type": "stream",
     "text": [
      "Copy ITIL-Foundation-9712.pdf  from  e:\\ITIL\n",
      "Copy ITIL-v3-Foundations-Exam-Prep-Book.pdf  from  e:\\ITIL\n",
      "Copy جزوه_درس_مدیریت_خدمات_فناوری_اطلاعات.pdf  from  e:\\ITIL\n",
      "Copy course-ITIL-93.pdf  from  e:\\ITIL\\1\n",
      "Copy Factsheet1.pdf  from  e:\\ITIL\\1\\2\n"
     ]
    }
   ],
   "source": [
    "copyfiles('e:\\\\ITIL' , ['pdf'] , \"e:\\\\a\")"
   ]
  },
  {
   "cell_type": "code",
   "execution_count": null,
   "id": "45b2b925",
   "metadata": {},
   "outputs": [],
   "source": []
  }
 ],
 "metadata": {
  "kernelspec": {
   "display_name": "Python 3 (ipykernel)",
   "language": "python",
   "name": "python3"
  },
  "language_info": {
   "codemirror_mode": {
    "name": "ipython",
    "version": 3
   },
   "file_extension": ".py",
   "mimetype": "text/x-python",
   "name": "python",
   "nbconvert_exporter": "python",
   "pygments_lexer": "ipython3",
   "version": "3.8.12"
  }
 },
 "nbformat": 4,
 "nbformat_minor": 5
}
