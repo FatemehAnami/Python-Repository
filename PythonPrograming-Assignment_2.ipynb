{
 "cells": [
  {
   "cell_type": "markdown",
   "id": "c47c4587",
   "metadata": {},
   "source": [
    "### Python Programing  Assignment 2\n",
    "\n",
    "1.\tWrite a Python program to convert kilometers to miles?\n",
    "2.\tWrite a Python program to convert Celsius to Fahrenheit?\n",
    "3.\tWrite a Python program to display calendar?\n",
    "4.\tWrite a Python program to solve quadratic equation?\n",
    "5.\tWrite a Python program to swap two variables without temp variable?"
   ]
  },
  {
   "cell_type": "code",
   "execution_count": 23,
   "id": "f8d6f7e2",
   "metadata": {},
   "outputs": [
    {
     "name": "stdout",
     "output_type": "stream",
     "text": [
      "Enter your distance in Km: 20\n",
      "Your distance is: 12.427423844 miles \n"
     ]
    }
   ],
   "source": [
    "km = int(input('Enter your distance in Km: '))\n",
    "print(f'Your distance is: {km * 0.6213711922} miles ')"
   ]
  },
  {
   "cell_type": "code",
   "execution_count": 24,
   "id": "1c4fe16f",
   "metadata": {},
   "outputs": [
    {
     "name": "stdout",
     "output_type": "stream",
     "text": [
      "Enter your distance in Celsius: 70\n",
      "Your degree is: 158.0 Fahrenheit \n"
     ]
    }
   ],
   "source": [
    "c = int(input('Enter your degree in Celsius: '))\n",
    "print(f'Your degree is: {c * (9/5) + 32} Fahrenheit ')"
   ]
  },
  {
   "cell_type": "code",
   "execution_count": 27,
   "id": "73e14c90",
   "metadata": {},
   "outputs": [
    {
     "name": "stdout",
     "output_type": "stream",
     "text": [
      "Enter Year: 2022\n",
      "Enter Month: 07\n",
      "The calnder of your date is: \n",
      "\n",
      "      July 2022\n",
      "Mo Tu We Th Fr Sa Su\n",
      "             1  2  3\n",
      " 4  5  6  7  8  9 10\n",
      "11 12 13 14 15 16 17\n",
      "18 19 20 21 22 23 24\n",
      "25 26 27 28 29 30 31\n",
      "\n"
     ]
    }
   ],
   "source": [
    "import calendar\n",
    "year = int(input('Enter Year: '))\n",
    "month = int(input('Enter Month: '))\n",
    "print('The calnder of your date is: \\n\\n',calendar.month(year,month))"
   ]
  },
  {
   "cell_type": "code",
   "execution_count": 49,
   "id": "7b966111",
   "metadata": {},
   "outputs": [
    {
     "name": "stdout",
     "output_type": "stream",
     "text": [
      "We want to solve ax^2 + bx + c equation then enter your constant numbers: \n",
      "Enter a: 2\n",
      "Enter b: 4\n",
      "Enter c: 2\n",
      "The discrimenat value is: 0\n",
      "The x for  2x^2+4x+2  will be:  -1.0\n"
     ]
    }
   ],
   "source": [
    "import math\n",
    "import cmath\n",
    "print('We want to solve ax^2 + bx + c equation then enter your constant numbers: ')\n",
    "a = int(input('Enter a: '))\n",
    "b = int(input('Enter b: '))\n",
    "c = int(input('Enter c: '))\n",
    "discrimenant = b**2 - 4*a*c\n",
    "print(f'The discrimenat value is: {discrimenant}')\n",
    "if discrimenant > 0 :\n",
    "    x1 = (-b + math.sqrt(discrimenant)) /(2*a)\n",
    "    x2 = (-b - math.sqrt(discrimenant)) /(2*a)\n",
    "    print(f'The x for  {a}x^2+{b}x+{c}  will be:  {x1}  or  {x2}')\n",
    "elif discrimenant == 0:\n",
    "    x1 = (-b + math.sqrt(b**2 - 4*a *c)) /(2*a) \n",
    "    print(f'The x for  {a}x^2+{b}x+{c}  will be:  {x1}')\n",
    "else :\n",
    "    x1 = (-b + cmath.sqrt(discrimenant)) /(2*a)\n",
    "    x2 = (-b - cmath.sqrt(discrimenant)) /(2*a)\n",
    "    print(f'The x for  {a}x^2+{b}x+{c}  will be:  {x1}  or  {x2}')"
   ]
  },
  {
   "cell_type": "code",
   "execution_count": 54,
   "id": "2a93ef64",
   "metadata": {},
   "outputs": [
    {
     "name": "stdout",
     "output_type": "stream",
     "text": [
      "Enter number1: 52\n",
      "Enter number2: 21\n",
      "Our data after swap will be:  number1: 21  and  number2: 52\n"
     ]
    }
   ],
   "source": [
    "number1 = int(input('Enter number1: '))\n",
    "number2 = int(input('Enter number2: '))\n",
    "number1 , number2 = number2 , number1\n",
    "print(f'Our data after swap will be:  number1: {number1}  and  number2: {number2}')"
   ]
  },
  {
   "cell_type": "code",
   "execution_count": null,
   "id": "c2f835f8",
   "metadata": {},
   "outputs": [],
   "source": []
  }
 ],
 "metadata": {
  "kernelspec": {
   "display_name": "Python 3 (ipykernel)",
   "language": "python",
   "name": "python3"
  },
  "language_info": {
   "codemirror_mode": {
    "name": "ipython",
    "version": 3
   },
   "file_extension": ".py",
   "mimetype": "text/x-python",
   "name": "python",
   "nbconvert_exporter": "python",
   "pygments_lexer": "ipython3",
   "version": "3.8.12"
  }
 },
 "nbformat": 4,
 "nbformat_minor": 5
}
