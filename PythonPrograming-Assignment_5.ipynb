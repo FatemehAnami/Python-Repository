{
 "cells": [
  {
   "cell_type": "markdown",
   "id": "ed83b54b",
   "metadata": {},
   "source": [
    "### Python Programing  Assignment 5\n",
    "\n",
    "1.\tWrite a Python Program to Find LCM?\n",
    "2.\tWrite a Python Program to Find HCF?\n",
    "3.\tWrite a Python Program to Convert Decimal to Binary, Octal and Hexadecimal?\n",
    "4.\tWrite a Python Program To Find ASCII value of a character?\n",
    "5.\tWrite a Python Program to Make a Simple Calculator with 4 basic mathematical operations"
   ]
  },
  {
   "cell_type": "code",
   "execution_count": 8,
   "id": "c26cc5e1",
   "metadata": {},
   "outputs": [
    {
     "name": "stdout",
     "output_type": "stream",
     "text": [
      "Enter a number first number: 11\n",
      "Enter a number second number: 17\n",
      "The LCM for 11 and 17 is 187\n"
     ]
    }
   ],
   "source": [
    "try: \n",
    "    number1 = int(input('Enter a number first number: '))\n",
    "    number2 = int(input('Enter a number second number: '))\n",
    "    if number1 > number2: \n",
    "        LCM = number1\n",
    "    else: \n",
    "        LCM = number2\n",
    "    flag = 0\n",
    "    while True:\n",
    "        if (LCM % number1 == 0) and (LCM % number2 == 0):\n",
    "            print(f'The LCM for {number1} and {number2} is {LCM}') \n",
    "            flag = 1\n",
    "            break\n",
    "        else: \n",
    "            LCM+=1\n",
    "    if flag == 0 :\n",
    "        print(f'There is not any LCM for {number1} and {number2}')\n",
    "except: \n",
    "        print(f'Please enter integer value as input ')"
   ]
  },
  {
   "cell_type": "code",
   "execution_count": 6,
   "id": "f6b99808",
   "metadata": {},
   "outputs": [
    {
     "name": "stdout",
     "output_type": "stream",
     "text": [
      "Enter a number first number: 11\n",
      "Enter a number second number: 25\n",
      "There is not any HCF between 11 and 25\n"
     ]
    }
   ],
   "source": [
    "try:\n",
    "    flag = 0\n",
    "    number1 = int(input('Enter a number first number: '))\n",
    "    number2 = int(input('Enter a number second number: '))\n",
    "    if number1 < number2: \n",
    "        HCF = number1\n",
    "    else: \n",
    "        HCF = number2\n",
    "    for i in range(2 , HCF + 1):\n",
    "        if (number1 % i  == 0) and (number2 % i == 0):\n",
    "            print(f'The HCF for {number1} and {number2} is {i}') \n",
    "            flag = 1\n",
    "            break\n",
    "    if flag == 0 : \n",
    "        print(f'There is not any HCF between {number1} and {number2}')\n",
    "except: \n",
    "    print(f'Please enter integer value as input ')"
   ]
  },
  {
   "cell_type": "code",
   "execution_count": 9,
   "id": "0a5a30ab",
   "metadata": {},
   "outputs": [
    {
     "name": "stdout",
     "output_type": "stream",
     "text": [
      "Enter your number to covert base: 42\n",
      "Binary base of number is:  101010\n",
      "Octa base of number is:  52\n",
      "Hexa base of number is:  210\n"
     ]
    }
   ],
   "source": [
    "def convert_base(x , base) :\n",
    "    try: \n",
    "        result = \"\"\n",
    "        while x > 0 :\n",
    "            result = str(x % base) + result\n",
    "            x = x // base\n",
    "        return result\n",
    "    except : \n",
    "        print('There is some issue in Convert_base function')\n",
    "        \n",
    "try:\n",
    "    number = int(input('Enter your number to covert base: '))\n",
    "    print('Binary base of number is: ', convert_base(number , 2))\n",
    "    print('Octa base of number is: ', convert_base(number , 8))\n",
    "    print('Hexa base of number is: ', convert_base(number , 16))\n",
    "except : \n",
    "    print(f'Please enter integer value as input ')    "
   ]
  },
  {
   "cell_type": "code",
   "execution_count": 140,
   "id": "181303df",
   "metadata": {},
   "outputs": [
    {
     "name": "stdout",
     "output_type": "stream",
     "text": [
      "Enter your charactor: %\n",
      "The ASCII value of % is 37\n"
     ]
    }
   ],
   "source": [
    "char= input('Enter your charactor: ')\n",
    "print(f'The ASCII value of {char} is {ord(char)}')"
   ]
  },
  {
   "cell_type": "code",
   "execution_count": 14,
   "id": "44b00cef",
   "metadata": {},
   "outputs": [
    {
     "name": "stdout",
     "output_type": "stream",
     "text": [
      "Enter your first number: 24\n",
      "Enter your second number: 57\n",
      "Enter your operand: /\n",
      "Division of your numbers is 0.42105263157894735\n"
     ]
    }
   ],
   "source": [
    "try:\n",
    "    number1 = float(input('Enter your first number: '))\n",
    "    number2 = float(input('Enter your second number: '))\n",
    "    operand = input('Enter your operand: ')\n",
    "\n",
    "    if operand == '+' :\n",
    "        print(f'Sum of your numbers is {number1 + number2}')\n",
    "    elif operand == '-' :\n",
    "        print(f'Subtract of your numbers is {number1 - number2}')\n",
    "    elif operand == '*' :\n",
    "        print(f'Product of your numbers is {number1 * number2}')\n",
    "    elif operand == '/' :\n",
    "        print(f'Division of your numbers is {number1 / number2}')\n",
    "    else : \n",
    "        raise Exception('Your operand is not correct')\n",
    "except exception as e:\n",
    "    print(e)"
   ]
  },
  {
   "cell_type": "code",
   "execution_count": null,
   "id": "bf5193e1",
   "metadata": {},
   "outputs": [],
   "source": []
  }
 ],
 "metadata": {
  "kernelspec": {
   "display_name": "Python 3 (ipykernel)",
   "language": "python",
   "name": "python3"
  },
  "language_info": {
   "codemirror_mode": {
    "name": "ipython",
    "version": 3
   },
   "file_extension": ".py",
   "mimetype": "text/x-python",
   "name": "python",
   "nbconvert_exporter": "python",
   "pygments_lexer": "ipython3",
   "version": "3.8.12"
  }
 },
 "nbformat": 4,
 "nbformat_minor": 5
}
