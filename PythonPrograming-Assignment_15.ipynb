{
 "cells": [
  {
   "cell_type": "markdown",
   "id": "ed83b54b",
   "metadata": {},
   "source": [
    "###### Python Programing  Assignment 15"
   ]
  },
  {
   "cell_type": "code",
   "execution_count": 5,
   "id": "1b0e7901",
   "metadata": {},
   "outputs": [
    {
     "name": "stdout",
     "output_type": "stream",
     "text": [
      "0,35,70,"
     ]
    }
   ],
   "source": [
    "'''\n",
    "Question 1:\n",
    "Please write a program using generator to print the numbers which can be divisible by 5 and 7 between 0 and n in comma separated form while n is input by console.\n",
    "Example:\n",
    "If the following n is given as input to the program:\n",
    "100\n",
    "Then, the output of the program should be:\n",
    "0,35,70\n",
    "\n",
    "'''\n",
    "def generator(n):\n",
    "     \n",
    "    for j in range(n):\n",
    "        if j % 5 == 0 and j % 7 == 0:\n",
    "            yield j\n",
    "\n",
    "n = 100\n",
    "for j in generator(n) :\n",
    "    print(j , end = ',')"
   ]
  },
  {
   "cell_type": "code",
   "execution_count": 8,
   "id": "4bdbfdb2",
   "metadata": {},
   "outputs": [
    {
     "name": "stdout",
     "output_type": "stream",
     "text": [
      "Please enter an integer number: 10\n",
      "0,2,4,6,8,10,"
     ]
    }
   ],
   "source": [
    "'''\n",
    "Question 2:\n",
    "Please write a program using generator to print the even numbers between 0 and n in comma separated form while n \n",
    "is input by console.\n",
    "Example:\n",
    "If the following n is given as input to the program:\n",
    "10\n",
    "Then, the output of the program should be:\n",
    "0,2,4,6,8,10\n",
    "\n",
    "'''\n",
    "def even_gen(n) :\n",
    "    for i in range(n):\n",
    "        if i % 2 == 0 :\n",
    "            yield i\n",
    "try : \n",
    "    n = int(input('Please enter an integer number: '))\n",
    "    for i in even_gen(n+1) :\n",
    "        print(i, end = ',')\n",
    "except Exception as e :\n",
    "    print(e)"
   ]
  },
  {
   "cell_type": "code",
   "execution_count": 16,
   "id": "17289efd",
   "metadata": {},
   "outputs": [
    {
     "name": "stdout",
     "output_type": "stream",
     "text": [
      "0,1,1,2,3,5,8,"
     ]
    }
   ],
   "source": [
    "'''\n",
    "Question 3:\n",
    "The Fibonacci Sequence is computed based on the following formula:\n",
    "f(n)=0 if n=0\n",
    "f(n)=1 if n=1\n",
    "f(n)=f(n-1)+f(n-2) if n>1\n",
    "Please write a program using list comprehension to print the Fibonacci Sequence in comma separated form with a \n",
    "given n input by console.\n",
    "\n",
    "Example:\n",
    "If the following n is given as input to the program:\n",
    "7\n",
    "\n",
    "Then, the output of the program should be:\n",
    "0,1,1,2,3,5,8,13\n",
    "\n",
    "'''\n",
    "n=5\n",
    "if n == 0 or n==1 :\n",
    "    print(n)\n",
    "else:\n",
    "    com_list=[0,1]\n",
    "    [com_list.append(com_list[-2]+com_list[-1]) for n in range(n)]\n",
    "    for i in com_list:\n",
    "        print(i, end = ',')"
   ]
  },
  {
   "cell_type": "code",
   "execution_count": 31,
   "id": "67a12719",
   "metadata": {},
   "outputs": [
    {
     "name": "stdout",
     "output_type": "stream",
     "text": [
      "Please enter your email address: john@google.com\n",
      "your email name is:  john\n"
     ]
    }
   ],
   "source": [
    "'''\n",
    "Question 4:\n",
    "Assuming that we have some email addresses in the \"username@companyname.com\" format, please write program\n",
    "to print the user name of a given email address. Both user names and company names are composed of letters only.\n",
    "Example:\n",
    "If the following email address is given as input to the program:\n",
    "john@google.com\n",
    "Then, the output of the program should be:\n",
    "john\n",
    "\n",
    "'''\n",
    "\n",
    "email= input('Please enter your email address: ')\n",
    "if email.find('@') != -1:\n",
    "    name = email.split('@')[0]\n",
    "    print('your email name is: ', name)\n",
    "else:\n",
    "    print('Your email format is not correct')"
   ]
  },
  {
   "cell_type": "code",
   "execution_count": 33,
   "id": "065ac9a2",
   "metadata": {},
   "outputs": [
    {
     "name": "stdout",
     "output_type": "stream",
     "text": [
      "The area of shape is:  0\n",
      "The area of square is:  16\n"
     ]
    }
   ],
   "source": [
    "'''\n",
    "Question 5:\n",
    "Define a class named Shape and its subclass Square. The Square class has an init function which takes a length as argument.\n",
    "Both classes have a area function which can print the area of the shape where Shape's area is 0 by default.\n",
    "\n",
    "'''\n",
    "class shape:\n",
    "    def area(self):\n",
    "        print('The area of shape is: ', 0)\n",
    "        \n",
    "class square(shape) :\n",
    "    def __init__(self , length) :\n",
    "        self.length = length\n",
    "    def area(self) :\n",
    "        print('The area of square is: ' , self.length ** 2)\n",
    "\n",
    "sh1= shape()\n",
    "sh2= square(4)\n",
    "sh1.area()\n",
    "sh2.area()"
   ]
  },
  {
   "cell_type": "code",
   "execution_count": null,
   "id": "183e3db5",
   "metadata": {},
   "outputs": [],
   "source": []
  }
 ],
 "metadata": {
  "kernelspec": {
   "display_name": "Python 3 (ipykernel)",
   "language": "python",
   "name": "python3"
  },
  "language_info": {
   "codemirror_mode": {
    "name": "ipython",
    "version": 3
   },
   "file_extension": ".py",
   "mimetype": "text/x-python",
   "name": "python",
   "nbconvert_exporter": "python",
   "pygments_lexer": "ipython3",
   "version": "3.8.12"
  }
 },
 "nbformat": 4,
 "nbformat_minor": 5
}
