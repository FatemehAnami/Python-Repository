{
 "cells": [
  {
   "cell_type": "markdown",
   "id": "af16ebd7",
   "metadata": {},
   "source": [
    "### 1. Add the current date to the text file today.txt as a string."
   ]
  },
  {
   "cell_type": "code",
   "execution_count": 43,
   "id": "0e67c025",
   "metadata": {},
   "outputs": [],
   "source": [
    "from datetime import date \n",
    "with open('today.txt', 'w') as file :\n",
    "    file.write(str(date.today()))\n",
    "    file.close()"
   ]
  },
  {
   "cell_type": "markdown",
   "id": "873fc984",
   "metadata": {},
   "source": [
    "### 2. Read the text file today.txt into the string today_string"
   ]
  },
  {
   "cell_type": "code",
   "execution_count": 13,
   "id": "5a8fb7fb",
   "metadata": {},
   "outputs": [
    {
     "name": "stdout",
     "output_type": "stream",
     "text": [
      "2022-07-01\n"
     ]
    }
   ],
   "source": [
    "with open('today.txt', 'r') as file :\n",
    "    today_string = file.read()\n",
    "    print(today_string)\n",
    "    file.close()"
   ]
  },
  {
   "cell_type": "markdown",
   "id": "abe8e7f0",
   "metadata": {},
   "source": [
    "### 3. Parse the date from today_string."
   ]
  },
  {
   "cell_type": "code",
   "execution_count": 66,
   "id": "031fdf27",
   "metadata": {},
   "outputs": [
    {
     "data": {
      "text/plain": [
       "datetime.datetime(2022, 7, 1, 0, 0)"
      ]
     },
     "execution_count": 66,
     "metadata": {},
     "output_type": "execute_result"
    }
   ],
   "source": [
    "datetime.datetime.strptime(today_string, \"%Y-%m-%d\")"
   ]
  },
  {
   "cell_type": "markdown",
   "id": "06f305d4",
   "metadata": {},
   "source": [
    "### 4. List the files in your current directory"
   ]
  },
  {
   "cell_type": "code",
   "execution_count": 23,
   "id": "84426159",
   "metadata": {},
   "outputs": [
    {
     "data": {
      "text/plain": [
       "[' Ridge and LAsso Regression implementation.ipynb',\n",
       " '-1.14-windows.xml',\n",
       " '.azuredatastudio',\n",
       " '.conda',\n",
       " '.condarc',\n",
       " '.continuum',\n",
       " '.dotnet',\n",
       " '.gitconfig',\n",
       " '.idlerc',\n",
       " '.ipynb_checkpoints',\n",
       " '.ipython',\n",
       " '.jupyter',\n",
       " '.keras',\n",
       " '.matplotlib',\n",
       " '.python_history',\n",
       " '.sparkmagic',\n",
       " '.VirtualBox',\n",
       " '.vscode',\n",
       " '3D Objects',\n",
       " 'anaconda3',\n",
       " 'AndroidStudioProjects',\n",
       " 'AppData',\n",
       " 'Application Data',\n",
       " 'azuredatastudio-python',\n",
       " 'books.csv',\n",
       " 'books.db',\n",
       " 'CarBrandClassification.ipynb',\n",
       " 'Class-Definition.ipynb',\n",
       " 'Contacts',\n",
       " 'Cookies',\n",
       " 'COVID.ipynb',\n",
       " 'currency30days.csv',\n",
       " 'datetime',\n",
       " 'debug.log',\n",
       " 'Desktop',\n",
       " 'Documents',\n",
       " 'Downloads',\n",
       " 'env',\n",
       " 'environment.yml',\n",
       " 'Favorites',\n",
       " 'FlowerPrediction.ipynb',\n",
       " 'Heart-disease.ipynb',\n",
       " 'Hello.py',\n",
       " 'HousePrice.ipynb',\n",
       " 'Hypothesis.ipynb',\n",
       " 'Indian-Migration.ipynb',\n",
       " 'Insurance.ipynb',\n",
       " 'IntelGraphicsProfiles',\n",
       " 'k1.py',\n",
       " 'k2.py',\n",
       " 'Links',\n",
       " 'Live- Frequently_Encoding.ipynb',\n",
       " 'Live-Handeling inbalance dataset.ipynb',\n",
       " 'Live-Outliers.ipynb',\n",
       " 'Local Settings',\n",
       " 'Log_ROC.png',\n",
       " 'LossVal_loss.png',\n",
       " 'MicrosoftEdgeBackups',\n",
       " 'miniconda3',\n",
       " 'model_resnet50.h5',\n",
       " 'Music',\n",
       " 'My Documents',\n",
       " 'NetHood',\n",
       " 'NLTK1.ipynb',\n",
       " 'NTUSER.DAT',\n",
       " 'ntuser.dat.LOG1',\n",
       " 'ntuser.dat.LOG2',\n",
       " 'NTUSER.DAT{0e9446ef-0a4d-11ec-bd71-8f25ceacd3ca}.TM.blf',\n",
       " 'NTUSER.DAT{0e9446ef-0a4d-11ec-bd71-8f25ceacd3ca}.TMContainer00000000000000000001.regtrans-ms',\n",
       " 'NTUSER.DAT{0e9446ef-0a4d-11ec-bd71-8f25ceacd3ca}.TMContainer00000000000000000002.regtrans-ms',\n",
       " 'ntuser.ini',\n",
       " 'OneDrive',\n",
       " 'output.csv',\n",
       " 'Pictures',\n",
       " 'PrintHood',\n",
       " 'PythonBasic-Assignment_21.ipynb',\n",
       " 'Recent',\n",
       " 'Saved Games',\n",
       " 'Searches',\n",
       " 'SendTo',\n",
       " 'source',\n",
       " 'Start Menu',\n",
       " 'sub.py',\n",
       " 'Templates',\n",
       " 'test.txt',\n",
       " 'Titanic.ipynb',\n",
       " 'today.txt',\n",
       " 'U.S._natural_gas_production',\n",
       " 'UNI-BIO-MULTI-Variate.ipynb',\n",
       " 'Untitled.ipynb',\n",
       " 'Untitled1.ipynb',\n",
       " 'Untitled10.ipynb',\n",
       " 'Untitled11.ipynb',\n",
       " 'Untitled12.ipynb',\n",
       " 'Untitled13.ipynb',\n",
       " 'Untitled14.ipynb',\n",
       " 'Untitled15.ipynb',\n",
       " 'Untitled16.ipynb',\n",
       " 'Untitled17.ipynb',\n",
       " 'Untitled18.ipynb',\n",
       " 'Untitled19.ipynb',\n",
       " 'Untitled2.ipynb',\n",
       " 'Untitled20.ipynb',\n",
       " 'Untitled21.ipynb',\n",
       " 'Untitled22.ipynb',\n",
       " 'Untitled23.ipynb',\n",
       " 'Untitled3.ipynb',\n",
       " 'Untitled4.ipynb',\n",
       " 'Untitled5.ipynb',\n",
       " 'Untitled6.ipynb',\n",
       " 'Untitled7.ipynb',\n",
       " 'Untitled8.ipynb',\n",
       " 'Untitled9.ipynb',\n",
       " 'US_Oil.ipynb',\n",
       " 'Videos',\n",
       " 'webdriver',\n",
       " 'مننننننن.py']"
      ]
     },
     "execution_count": 23,
     "metadata": {},
     "output_type": "execute_result"
    }
   ],
   "source": [
    "import os\n",
    "os.listdir()"
   ]
  },
  {
   "cell_type": "markdown",
   "id": "2b63d8e5",
   "metadata": {},
   "source": [
    "### 5. Create a list of all of the files in your parent directory (minimum five files should be available)."
   ]
  },
  {
   "cell_type": "code",
   "execution_count": 33,
   "id": "5c69f907",
   "metadata": {},
   "outputs": [
    {
     "data": {
      "text/plain": [
       "['C:\\\\Users\\\\Fatima\\\\ Ridge and LAsso Regression implementation.ipynb',\n",
       " 'C:\\\\Users\\\\Fatima\\\\-1.14-windows.xml',\n",
       " 'C:\\\\Users\\\\Fatima\\\\.condarc',\n",
       " 'C:\\\\Users\\\\Fatima\\\\.gitconfig',\n",
       " 'C:\\\\Users\\\\Fatima\\\\.python_history',\n",
       " 'C:\\\\Users\\\\Fatima\\\\books.csv',\n",
       " 'C:\\\\Users\\\\Fatima\\\\books.db',\n",
       " 'C:\\\\Users\\\\Fatima\\\\CarBrandClassification.ipynb',\n",
       " 'C:\\\\Users\\\\Fatima\\\\Class-Definition.ipynb',\n",
       " 'C:\\\\Users\\\\Fatima\\\\COVID.ipynb',\n",
       " 'C:\\\\Users\\\\Fatima\\\\currency30days.csv',\n",
       " 'C:\\\\Users\\\\Fatima\\\\debug.log',\n",
       " 'C:\\\\Users\\\\Fatima\\\\environment.yml',\n",
       " 'C:\\\\Users\\\\Fatima\\\\FlowerPrediction.ipynb',\n",
       " 'C:\\\\Users\\\\Fatima\\\\Heart-disease.ipynb',\n",
       " 'C:\\\\Users\\\\Fatima\\\\Hello.py',\n",
       " 'C:\\\\Users\\\\Fatima\\\\HousePrice.ipynb',\n",
       " 'C:\\\\Users\\\\Fatima\\\\Hypothesis.ipynb',\n",
       " 'C:\\\\Users\\\\Fatima\\\\Indian-Migration.ipynb',\n",
       " 'C:\\\\Users\\\\Fatima\\\\Insurance.ipynb',\n",
       " 'C:\\\\Users\\\\Fatima\\\\k1.py',\n",
       " 'C:\\\\Users\\\\Fatima\\\\k2.py',\n",
       " 'C:\\\\Users\\\\Fatima\\\\Live- Frequently_Encoding.ipynb',\n",
       " 'C:\\\\Users\\\\Fatima\\\\Live-Handeling inbalance dataset.ipynb',\n",
       " 'C:\\\\Users\\\\Fatima\\\\Live-Outliers.ipynb',\n",
       " 'C:\\\\Users\\\\Fatima\\\\Log_ROC.png',\n",
       " 'C:\\\\Users\\\\Fatima\\\\LossVal_loss.png',\n",
       " 'C:\\\\Users\\\\Fatima\\\\model_resnet50.h5',\n",
       " 'C:\\\\Users\\\\Fatima\\\\NLTK1.ipynb',\n",
       " 'C:\\\\Users\\\\Fatima\\\\NTUSER.DAT',\n",
       " 'C:\\\\Users\\\\Fatima\\\\ntuser.dat.LOG1',\n",
       " 'C:\\\\Users\\\\Fatima\\\\ntuser.dat.LOG2',\n",
       " 'C:\\\\Users\\\\Fatima\\\\NTUSER.DAT{0e9446ef-0a4d-11ec-bd71-8f25ceacd3ca}.TM.blf',\n",
       " 'C:\\\\Users\\\\Fatima\\\\NTUSER.DAT{0e9446ef-0a4d-11ec-bd71-8f25ceacd3ca}.TMContainer00000000000000000001.regtrans-ms',\n",
       " 'C:\\\\Users\\\\Fatima\\\\NTUSER.DAT{0e9446ef-0a4d-11ec-bd71-8f25ceacd3ca}.TMContainer00000000000000000002.regtrans-ms',\n",
       " 'C:\\\\Users\\\\Fatima\\\\ntuser.ini',\n",
       " 'C:\\\\Users\\\\Fatima\\\\output.csv',\n",
       " 'C:\\\\Users\\\\Fatima\\\\PythonBasic-Assignment_21.ipynb',\n",
       " 'C:\\\\Users\\\\Fatima\\\\sub.py',\n",
       " 'C:\\\\Users\\\\Fatima\\\\test.txt',\n",
       " 'C:\\\\Users\\\\Fatima\\\\Titanic.ipynb',\n",
       " 'C:\\\\Users\\\\Fatima\\\\today.txt',\n",
       " 'C:\\\\Users\\\\Fatima\\\\U.S._natural_gas_production',\n",
       " 'C:\\\\Users\\\\Fatima\\\\UNI-BIO-MULTI-Variate.ipynb',\n",
       " 'C:\\\\Users\\\\Fatima\\\\Untitled.ipynb',\n",
       " 'C:\\\\Users\\\\Fatima\\\\Untitled1.ipynb',\n",
       " 'C:\\\\Users\\\\Fatima\\\\Untitled10.ipynb',\n",
       " 'C:\\\\Users\\\\Fatima\\\\Untitled11.ipynb',\n",
       " 'C:\\\\Users\\\\Fatima\\\\Untitled12.ipynb',\n",
       " 'C:\\\\Users\\\\Fatima\\\\Untitled13.ipynb',\n",
       " 'C:\\\\Users\\\\Fatima\\\\Untitled14.ipynb',\n",
       " 'C:\\\\Users\\\\Fatima\\\\Untitled15.ipynb',\n",
       " 'C:\\\\Users\\\\Fatima\\\\Untitled16.ipynb',\n",
       " 'C:\\\\Users\\\\Fatima\\\\Untitled17.ipynb',\n",
       " 'C:\\\\Users\\\\Fatima\\\\Untitled18.ipynb',\n",
       " 'C:\\\\Users\\\\Fatima\\\\Untitled19.ipynb',\n",
       " 'C:\\\\Users\\\\Fatima\\\\Untitled2.ipynb',\n",
       " 'C:\\\\Users\\\\Fatima\\\\Untitled20.ipynb',\n",
       " 'C:\\\\Users\\\\Fatima\\\\Untitled21.ipynb',\n",
       " 'C:\\\\Users\\\\Fatima\\\\Untitled22.ipynb',\n",
       " 'C:\\\\Users\\\\Fatima\\\\Untitled23.ipynb',\n",
       " 'C:\\\\Users\\\\Fatima\\\\Untitled3.ipynb',\n",
       " 'C:\\\\Users\\\\Fatima\\\\Untitled4.ipynb',\n",
       " 'C:\\\\Users\\\\Fatima\\\\Untitled5.ipynb',\n",
       " 'C:\\\\Users\\\\Fatima\\\\Untitled6.ipynb',\n",
       " 'C:\\\\Users\\\\Fatima\\\\Untitled7.ipynb',\n",
       " 'C:\\\\Users\\\\Fatima\\\\Untitled8.ipynb',\n",
       " 'C:\\\\Users\\\\Fatima\\\\Untitled9.ipynb',\n",
       " 'C:\\\\Users\\\\Fatima\\\\US_Oil.ipynb',\n",
       " 'C:\\\\Users\\\\Fatima\\\\مننننننن.py']"
      ]
     },
     "execution_count": 33,
     "metadata": {},
     "output_type": "execute_result"
    }
   ],
   "source": [
    "filelist = []\n",
    "for l in os.listdir():\n",
    "    if os.path.isfile(os.getcwd() + '\\\\' +  l) :\n",
    "        filelist.append(os.getcwd() + '\\\\' +  l)\n",
    "filelist"
   ]
  },
  {
   "cell_type": "markdown",
   "id": "89127ea4",
   "metadata": {},
   "source": [
    "### 6. Use multiprocessing to create three separate processes. Make each one wait a random number of seconds between one and five, print the current time, and then exit."
   ]
  },
  {
   "cell_type": "code",
   "execution_count": 42,
   "id": "ee30205f",
   "metadata": {},
   "outputs": [
    {
     "name": "stdout",
     "output_type": "stream",
     "text": [
      "Started worker Process1\n",
      "2022-07-01 11:45:10.639149\n",
      "Started worker Process2\n",
      "2022-07-01 11:45:13.648725\n",
      "Started worker Process3\n",
      "2022-07-01 11:45:18.661355\n"
     ]
    }
   ],
   "source": [
    "import multiprocessing, time , datetime\n",
    "import random\n",
    "\n",
    "def worker(name):\n",
    "    print(f'Started worker {name}')\n",
    "    worker_time = random.randint(1, 5)\n",
    "    time.sleep(worker_time)\n",
    "    print(datetime.datetime.now())\n",
    "\n",
    "process1 = worker('Process1')\n",
    "process2 = worker('Process2')\n",
    "process3 = worker('Process3')\n",
    "    \n",
    "p1 = multiprocessing.Process(target=process1)\n",
    "p1.start()\n",
    "p2 = multiprocessing.Process(target=process2)\n",
    "p2.start()\n",
    "p3 = multiprocessing.Process(target=process2)\n",
    "p3.start()\n",
    "\n",
    "p1.join()\n",
    "p2.join()\n",
    "p3.join()"
   ]
  },
  {
   "cell_type": "markdown",
   "id": "0e8aa3de",
   "metadata": {},
   "source": [
    "### 7. Create a date object of your day of birth."
   ]
  },
  {
   "cell_type": "code",
   "execution_count": 46,
   "id": "56183892",
   "metadata": {},
   "outputs": [
    {
     "data": {
      "text/plain": [
       "datetime.datetime(1979, 6, 22, 0, 0)"
      ]
     },
     "execution_count": 46,
     "metadata": {},
     "output_type": "execute_result"
    }
   ],
   "source": [
    "import datetime\n",
    "mybirthday = datetime.datetime(1979,6,22)\n",
    "mybirthday"
   ]
  },
  {
   "cell_type": "markdown",
   "id": "d45ddd6b",
   "metadata": {},
   "source": [
    "### 8. What day of the week was your day of birth?"
   ]
  },
  {
   "cell_type": "code",
   "execution_count": 48,
   "id": "e0e46eb8",
   "metadata": {},
   "outputs": [
    {
     "data": {
      "text/plain": [
       "4"
      ]
     },
     "execution_count": 48,
     "metadata": {},
     "output_type": "execute_result"
    }
   ],
   "source": [
    "datetime.datetime.weekday(mybirthday)"
   ]
  },
  {
   "cell_type": "markdown",
   "id": "39d9b2a4",
   "metadata": {},
   "source": [
    "### 9. When will you be (or when were you) 10,000 days old?"
   ]
  },
  {
   "cell_type": "code",
   "execution_count": 59,
   "id": "1b2bcdb4",
   "metadata": {},
   "outputs": [
    {
     "data": {
      "text/plain": [
       "datetime.datetime(2006, 11, 7, 0, 0)"
      ]
     },
     "execution_count": 59,
     "metadata": {},
     "output_type": "execute_result"
    }
   ],
   "source": [
    "mybirthday + datetime.timedelta(days= 10000)"
   ]
  },
  {
   "cell_type": "code",
   "execution_count": null,
   "id": "ed1f4e42",
   "metadata": {},
   "outputs": [],
   "source": []
  }
 ],
 "metadata": {
  "kernelspec": {
   "display_name": "Python 3 (ipykernel)",
   "language": "python",
   "name": "python3"
  },
  "language_info": {
   "codemirror_mode": {
    "name": "ipython",
    "version": 3
   },
   "file_extension": ".py",
   "mimetype": "text/x-python",
   "name": "python",
   "nbconvert_exporter": "python",
   "pygments_lexer": "ipython3",
   "version": "3.8.12"
  }
 },
 "nbformat": 4,
 "nbformat_minor": 5
}
