{
 "cells": [
  {
   "cell_type": "markdown",
   "id": "3b1ac771",
   "metadata": {},
   "source": [
    "### 1.\tWhat does RGBA stand for?\n",
    "\n",
    "RGBA(Red-Green-Blue-Alpha), \n",
    "It is the RGB colour model which is extended to show opacity or transparency of the photo in Alpha. "
   ]
  },
  {
   "cell_type": "markdown",
   "id": "695b7299",
   "metadata": {},
   "source": [
    "### 2.\tFrom the Pillow module, how do you get the RGBA value of any images?\n",
    "\n",
    "If the images are in RGBA format we can get these value by datas = rgba.getdata()"
   ]
  },
  {
   "cell_type": "markdown",
   "id": "afed564f",
   "metadata": {},
   "source": [
    "### 3.\tWhat is a box tuple, and how does it work?\n",
    "\n",
    "tuple of four integer coordinates that represent a rectangular region in an image, this box contain:\n",
    "* Left The x-coordinate of the leftmost edge of the box.\n",
    "* Top The y-coordinate of the top edge of the box.\n",
    "* Right The x-coordinate of one pixel to the right of the rightmost edge of the box. This integer must be greater than the left integer.\n",
    "* Bottom The y-coordinate of one pixel lower than the bottom edge of the box. This integer must be greater than the top integer."
   ]
  },
  {
   "cell_type": "markdown",
   "id": "952c31a1",
   "metadata": {},
   "source": [
    "### 4.\tUse your image and load in notebook then, How can you find out the width and height of an Image object?"
   ]
  },
  {
   "cell_type": "code",
   "execution_count": 40,
   "id": "1d048d46",
   "metadata": {},
   "outputs": [
    {
     "name": "stdout",
     "output_type": "stream",
     "text": [
      "(100, 100)\n"
     ]
    }
   ],
   "source": [
    "from PIL import Image\n",
    "img = Image.open('download.jpg')\n",
    "print(img.size)\n",
    "img.show()"
   ]
  },
  {
   "cell_type": "markdown",
   "id": "4aecca0b",
   "metadata": {},
   "source": [
    "### 5.\tWhat method would you call to get Image object for a 100×100 image, excluding the lower-left quarter of it?"
   ]
  },
  {
   "cell_type": "code",
   "execution_count": 29,
   "id": "718605f8",
   "metadata": {},
   "outputs": [
    {
     "name": "stdout",
     "output_type": "stream",
     "text": [
      "(75, 75)\n"
     ]
    }
   ],
   "source": [
    "import matplotlib.pyplot as plt\n",
    "w  , h = img.size\n",
    "box = img.crop((25 , 0 ,100 , 75))\n",
    "print(box.size)\n",
    "box.show()"
   ]
  },
  {
   "cell_type": "markdown",
   "id": "800344a9",
   "metadata": {},
   "source": [
    "### 6.\tAfter making changes to an Image object, how could you save it as an image file?"
   ]
  },
  {
   "cell_type": "code",
   "execution_count": 19,
   "id": "0b4f2d48",
   "metadata": {},
   "outputs": [],
   "source": [
    "box.save('editedimage.jpg')"
   ]
  },
  {
   "cell_type": "markdown",
   "id": "70e82d94",
   "metadata": {},
   "source": [
    "### 7.\tWhat module contains Pillow’s shape-drawing code?\n",
    "we can use ImageDrow module for shape drawing then we should import below library : \n",
    "* from PIL import ImageDraw"
   ]
  },
  {
   "cell_type": "markdown",
   "id": "2c15e595",
   "metadata": {},
   "source": [
    "### 8.\tImage objects do not have drawing methods. What kind of object does? How do you get this kind of object?\n",
    "\n",
    "A Drawing objects have drawing methods then we should change our image to drawing object at first. below code show how to change image to drawing object \n",
    "\n",
    "* img = Image.open('download.jpg')\n",
    "* draw = ImageDraw.Draw(img)\n",
    "\n",
    "then we can add draw rectangle on our image \n",
    "\n",
    "* draw.rectangle((25, 25, 50, 50), outline = (255,255,255))"
   ]
  },
  {
   "cell_type": "code",
   "execution_count": null,
   "id": "e574af7d",
   "metadata": {},
   "outputs": [],
   "source": []
  }
 ],
 "metadata": {
  "kernelspec": {
   "display_name": "Python 3 (ipykernel)",
   "language": "python",
   "name": "python3"
  },
  "language_info": {
   "codemirror_mode": {
    "name": "ipython",
    "version": 3
   },
   "file_extension": ".py",
   "mimetype": "text/x-python",
   "name": "python",
   "nbconvert_exporter": "python",
   "pygments_lexer": "ipython3",
   "version": "3.8.12"
  }
 },
 "nbformat": 4,
 "nbformat_minor": 5
}
