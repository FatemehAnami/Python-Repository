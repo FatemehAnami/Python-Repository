{
 "cells": [
  {
   "cell_type": "markdown",
   "id": "90656ee4",
   "metadata": {},
   "source": [
    "### Python Programing  Assignment 4\n",
    "\n",
    "1.\tWrite a Python Program to Find the Factorial of a Number?\n",
    "2.\tWrite a Python Program to Display the multiplication Table?\n",
    "3.\tWrite a Python Program to Print the Fibonacci sequence?\n",
    "4.\tWrite a Python Program to Check Armstrong Number?\n",
    "5.\tWrite a Python Program to Find Armstrong Number in an Interval?\n",
    "6.\tWrite a Python Program to Find the Sum of Natural Numbers?"
   ]
  },
  {
   "cell_type": "code",
   "execution_count": 80,
   "id": "2e649cab",
   "metadata": {},
   "outputs": [
    {
     "name": "stdout",
     "output_type": "stream",
     "text": [
      "Enter a number to calculate factorial: 5\n",
      "The factorial of the 5 is: 120\n"
     ]
    }
   ],
   "source": [
    "number = int(input('Enter a number to calculate factorial: '))\n",
    "fact = 1\n",
    "for i in range(2,number+1):\n",
    "    fact = fact * i\n",
    "print(f'The factorial of the {number} is: {fact}')"
   ]
  },
  {
   "cell_type": "code",
   "execution_count": 90,
   "id": "c9b6225c",
   "metadata": {},
   "outputs": [
    {
     "name": "stdout",
     "output_type": "stream",
     "text": [
      "The Multiplication Table:\n",
      "1  2  3  4  5  6  7  8  9  10 \n",
      "2  4  6  8  10 12 14 16 18 20 \n",
      "3  6  9  12 15 18 21 24 27 30 \n",
      "4  8  12 16 20 24 28 32 36 40 \n",
      "5  10 15 20 25 30 35 40 45 50 \n",
      "6  12 18 24 30 36 42 48 54 60 \n",
      "7  14 21 28 35 42 49 56 63 70 \n",
      "8  16 24 32 40 48 56 64 72 80 \n",
      "9  18 27 36 45 54 63 72 81 90 \n",
      "10 20 30 40 50 60 70 80 90 100 \n"
     ]
    }
   ],
   "source": [
    "print('The Multiplication Table:')\n",
    "for i in range(1,11):\n",
    "    for j in range(1,11):\n",
    "        m = i*j\n",
    "        if m <= 9: \n",
    "            print(m , end = '  ')\n",
    "        else: \n",
    "            print(m , end = ' ')            \n",
    "    print()"
   ]
  },
  {
   "cell_type": "code",
   "execution_count": 95,
   "id": "ff87adfb",
   "metadata": {},
   "outputs": [
    {
     "name": "stdout",
     "output_type": "stream",
     "text": [
      "Enter your number to print Fibonacci: 10\n",
      "1 1 2 3 5 8 13 21 34 55 "
     ]
    }
   ],
   "source": [
    "number = int(input('Enter your number to print Fibonacci: '))\n",
    "a = 1\n",
    "b = 0\n",
    "for i in range (number): \n",
    "    a = a + b \n",
    "    print(a, end = ' ')\n",
    "    a , b = b, a"
   ]
  },
  {
   "cell_type": "code",
   "execution_count": 100,
   "id": "fd1042d5",
   "metadata": {},
   "outputs": [
    {
     "name": "stdout",
     "output_type": "stream",
     "text": [
      "Enter your number to calculate Armstrong Number: 124\n",
      "The armstrang number of 124 is 73\n"
     ]
    }
   ],
   "source": [
    "number = input('Enter your number to calculate Armstrong Number: ')\n",
    "l = len(number)\n",
    "armstrong = 0\n",
    "for i in range(l) : \n",
    "    armstrong = armstrong + int(number[i]) ** l\n",
    "print(f'The armstrang number of {number} is {armstrong}')"
   ]
  },
  {
   "cell_type": "code",
   "execution_count": 103,
   "id": "f61ed849",
   "metadata": {},
   "outputs": [
    {
     "name": "stdout",
     "output_type": "stream",
     "text": [
      "Enter your Start number of Interval: 20\n",
      "Enter your End number of Interval: 30\n",
      "The armstrang number of 20 is 4\n",
      "The armstrang number of 21 is 5\n",
      "The armstrang number of 22 is 8\n",
      "The armstrang number of 23 is 13\n",
      "The armstrang number of 24 is 20\n",
      "The armstrang number of 25 is 29\n",
      "The armstrang number of 26 is 40\n",
      "The armstrang number of 27 is 53\n",
      "The armstrang number of 28 is 68\n",
      "The armstrang number of 29 is 85\n",
      "The armstrang number of 30 is 9\n"
     ]
    }
   ],
   "source": [
    "start = int(input('Enter your Start number of Interval: '))\n",
    "end = int(input('Enter your End number of Interval: '))\n",
    "for j in range(start , end+1) :\n",
    "    number = str(j)\n",
    "    l = len(number)\n",
    "    armstrong = 0\n",
    "    for i in range(l) : \n",
    "        armstrong = armstrong + int(number[i]) ** l\n",
    "    print(f'The armstrang number of {number} is {armstrong}')\n"
   ]
  },
  {
   "cell_type": "code",
   "execution_count": 109,
   "id": "d364148e",
   "metadata": {},
   "outputs": [
    {
     "name": "stdout",
     "output_type": "stream",
     "text": [
      "Enter your number: 25\n",
      "The Sum of Natural Numbers between 1 to 25 is: 465\n"
     ]
    }
   ],
   "source": [
    "try: \n",
    "    number = int(input('Enter your number: '))\n",
    "    sum = 0\n",
    "    for j in range(1, end+1) :\n",
    "        sum = sum + j\n",
    "    print(f'The Sum of Natural Numbers between 1 to {number} is: {sum}')\n",
    "except : \n",
    "    print('You have to enter an integer value')"
   ]
  },
  {
   "cell_type": "code",
   "execution_count": 111,
   "id": "1a350cab",
   "metadata": {},
   "outputs": [
    {
     "name": "stdout",
     "output_type": "stream",
     "text": [
      "This will continue to crash because the end is not clear\n"
     ]
    }
   ],
   "source": [
    "# Natural Numbers without limitation\n",
    "try: \n",
    "    sum = 0\n",
    "    j= 0\n",
    "    while True :\n",
    "        sum = sum + j\n",
    "        j +=1\n",
    "    print(f'The Sum of Natural Numbers between 1 to {number} is: {sum}')\n",
    "except : \n",
    "    print('This will continue to crash because the end is not clear')"
   ]
  },
  {
   "cell_type": "code",
   "execution_count": null,
   "id": "16db21cd",
   "metadata": {},
   "outputs": [],
   "source": []
  }
 ],
 "metadata": {
  "kernelspec": {
   "display_name": "Python 3 (ipykernel)",
   "language": "python",
   "name": "python3"
  },
  "language_info": {
   "codemirror_mode": {
    "name": "ipython",
    "version": 3
   },
   "file_extension": ".py",
   "mimetype": "text/x-python",
   "name": "python",
   "nbconvert_exporter": "python",
   "pygments_lexer": "ipython3",
   "version": "3.8.12"
  }
 },
 "nbformat": 4,
 "nbformat_minor": 5
}
