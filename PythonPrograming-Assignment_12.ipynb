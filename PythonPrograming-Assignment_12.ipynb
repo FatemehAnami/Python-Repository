{
 "cells": [
  {
   "cell_type": "markdown",
   "id": "ed83b54b",
   "metadata": {},
   "source": [
    "###### Python Programing  Assignment 12\n",
    "\n",
    "1.\tWrite a Python program to Extract Unique values dictionary values?\n",
    "2.\tWrite a Python program to find the sum of all items in a dictionary?\n",
    "3.\tWrite a Python program to Merging two Dictionaries?\n",
    "4.\tWrite a Python program to convert key-values list to flat dictionary?\n",
    "5.\tWrite a Python program to insertion at the beginning in OrderedDict?\n",
    "6.\tWrite a Python program to check order of character in string using OrderedDict()?\n",
    "7.\tWrite a Python program to sort Python Dictionaries by Key or Value?\n"
   ]
  },
  {
   "cell_type": "code",
   "execution_count": 3,
   "id": "1b0e7901",
   "metadata": {},
   "outputs": [
    {
     "name": "stdout",
     "output_type": "stream",
     "text": [
      "The unique values of dictionary values are: {5, 6, 7, 8, 'test', 10, 11, 12, 'abc', 'esw'}\n"
     ]
    }
   ],
   "source": [
    "# Write a Python program to Extract Unique values dictionary values?\n",
    "\n",
    "my_dict = {'a' : [5, 6, 7, 8],\n",
    "            'b' : [10, 11, 7, 5],\n",
    "            'c' : [6, 12, 10, 8],\n",
    "            'd' : ['abc' , 'esw' , 'test']}\n",
    "x = set()\n",
    "for i in my_dict.values() :\n",
    "    x.update(i)\n",
    "\n",
    "print('The unique values of dictionary values are:', x)"
   ]
  },
  {
   "cell_type": "code",
   "execution_count": 5,
   "id": "4bdbfdb2",
   "metadata": {},
   "outputs": [
    {
     "name": "stdout",
     "output_type": "stream",
     "text": [
      "Sum of all dictionary items is :  750\n"
     ]
    }
   ],
   "source": [
    "# Write a Python program to find the sum of all items in a dictionary?\n",
    "sum = 0\n",
    "my_dict = {'a': 100 , 'b': 250, 'c': 400}\n",
    "for i in my_dict.values() :\n",
    "    sum = sum + i\n",
    "\n",
    "print('Sum of all dictionary items is : ', sum)\n"
   ]
  },
  {
   "cell_type": "code",
   "execution_count": 9,
   "id": "17289efd",
   "metadata": {},
   "outputs": [
    {
     "name": "stdout",
     "output_type": "stream",
     "text": [
      "Merge of tw dictionary will be:  {'a': 'erw', 'b': ['ddeeww', 350], 'c': 100, 'f': 'tee'}\n"
     ]
    }
   ],
   "source": [
    "# Write a Python program to Merging two Dictionaries?\n",
    "\n",
    "def merge_dictionary(dict1, dict2):\n",
    "    \n",
    "    '''\n",
    "    This finction merge two dictionary \n",
    "    '''\n",
    "    for i in dict2.keys():\n",
    "        if i in dict1.keys():\n",
    "            dict1[i] = [dict1[i], dict2[i]]\n",
    "        else :\n",
    "            dict1[i] = dict2[i]\n",
    "\n",
    "    return dict1\n",
    "        \n",
    "dict1 = {'a': 'erw' , 'b': 'ddeeww', 'c' : 100}\n",
    "dict2 = {'f' : 'tee' , 'b' : 350}\n",
    "print('Merge of tw dictionary will be: ', merge_dictionary(dict1, dict2))\n"
   ]
  },
  {
   "cell_type": "code",
   "execution_count": 21,
   "id": "67a12719",
   "metadata": {},
   "outputs": [
    {
     "name": "stdout",
     "output_type": "stream",
     "text": [
      "New dictionary is:  {'a': 'fdffa', 'b': 23322, 'ffdd': 'hrewa'}\n"
     ]
    }
   ],
   "source": [
    "# Write a Python program to convert key-values list to flat dictionary?\n",
    "\n",
    "dict1 = {'keys' : ['a', 'b', 'ffdd'],\n",
    "        'values': ['fdffa' , 23322, 'hrewa']}\n",
    "def flat_dictionary(test_dict) :\n",
    "    '''\n",
    "    this funcion convert key-value list o flat dictionary\n",
    "    '''\n",
    "    result_dict = {}\n",
    "\n",
    "    if len(dict1) == 2 :\n",
    "        if len(dict1['keys']) == len(dict1['values']) :\n",
    "            for i, j in zip(dict1['keys'], dict1['values']):\n",
    "                result_dict[i] = j\n",
    "        else :\n",
    "            print('The len of keys list and values list should be same')\n",
    "    else :\n",
    "        print('The len of input dictionary should be two (list of keys,list of values)')\n",
    "    return result_dict\n",
    "        \n",
    "print('New dictionary is: ', flat_dictionary(dict1))"
   ]
  },
  {
   "cell_type": "code",
   "execution_count": 29,
   "id": "065ac9a2",
   "metadata": {},
   "outputs": [
    {
     "name": "stdout",
     "output_type": "stream",
     "text": [
      "OrderedDict([('f', '4'), ('hrwev', '1'), ('b', '2'), ('trebv', '3')])\n"
     ]
    }
   ],
   "source": [
    "# Write a Python program to insertion at the beginning in OrderedDict?\n",
    "from collections import OrderedDict\n",
    "def insertion_to_dict(my_dict, new_dict):\n",
    "    \n",
    "    '''\n",
    "    This function do insertion at the begining in ordered dictionary\n",
    "    '''\n",
    "    result = my_dict\n",
    "    result.update(new_dict)\n",
    "    result.move_to_end('f' , last = False)\n",
    "    return result\n",
    "    \n",
    "\n",
    "dict1 = OrderedDict([('hrwev', '1') , ('b','2'), ('trebv', '3')])\n",
    "dict2 = {'f' : '4'}\n",
    "print(insertion_to_dict(dict1, dict2))"
   ]
  },
  {
   "cell_type": "code",
   "execution_count": 43,
   "id": "d22dd215",
   "metadata": {},
   "outputs": [
    {
     "name": "stdout",
     "output_type": "stream",
     "text": [
      "True\n"
     ]
    }
   ],
   "source": [
    "# Write a Python program to check order of character in string using OrderedDict()?\n",
    "\n",
    "def find_pattern(string, pattern):\n",
    "    '''\n",
    "    This function check order of character in sring \n",
    "    '''\n",
    "    temp_dict = OrderedDict.fromkeys(string)\n",
    "    ptrlen = 0\n",
    "    for key in temp_dict.keys() : \n",
    "        if key == pattern[ptrlen] :\n",
    "            ptrlen +=1\n",
    "        if ptrlen == len(pattern):\n",
    "            return True\n",
    "    return False\n",
    "       \n",
    "\n",
    "text = 'This is a test' \n",
    "print(find_pattern(text , 'is'))"
   ]
  },
  {
   "cell_type": "code",
   "execution_count": 84,
   "id": "cc2cdafc",
   "metadata": {},
   "outputs": [
    {
     "name": "stdout",
     "output_type": "stream",
     "text": [
      "Ordered dictionary by values:  {'d': 'ddeeww', 'h': 'erw', 'b': 'khir'}\n",
      "Ordered dictionary by keys  :  {'b': 'khir', 'd': 'ddeeww', 'h': 'erw'}\n"
     ]
    }
   ],
   "source": [
    "# Write a Python program to sort Python Dictionaries by Key or Value?\n",
    "import numpy as np\n",
    "def sort_dict_key_or_value(my_dict , keys_order = False):\n",
    "    '''\n",
    "    This function ordered dictionary by keys or values \n",
    "    '''\n",
    "    result = {}   \n",
    "    if keys_order == True :\n",
    "        for i in sorted(my_dict.items()):\n",
    "            result[i[0]] = i[1]\n",
    "    else:\n",
    "        for i in sorted(my_dict.items(), key=lambda item: item[1]):\n",
    "            result[i[0]] = i[1]\n",
    "    return result    \n",
    "\n",
    "dict1 = {'h': 'erw' , 'd': 'ddeeww', 'b' : 'khir'}\n",
    "print('Ordered dictionary by values: ', sort_dict_key_or_value(dict1))\n",
    "print('Ordered dictionary by keys  : ', sort_dict_key_or_value(dict1,True))"
   ]
  },
  {
   "cell_type": "code",
   "execution_count": null,
   "id": "183e3db5",
   "metadata": {},
   "outputs": [],
   "source": []
  }
 ],
 "metadata": {
  "kernelspec": {
   "display_name": "Python 3 (ipykernel)",
   "language": "python",
   "name": "python3"
  },
  "language_info": {
   "codemirror_mode": {
    "name": "ipython",
    "version": 3
   },
   "file_extension": ".py",
   "mimetype": "text/x-python",
   "name": "python",
   "nbconvert_exporter": "python",
   "pygments_lexer": "ipython3",
   "version": "3.8.12"
  }
 },
 "nbformat": 4,
 "nbformat_minor": 5
}
