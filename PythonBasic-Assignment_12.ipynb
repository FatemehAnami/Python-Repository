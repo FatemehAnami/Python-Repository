{
 "cells": [
  {
   "cell_type": "markdown",
   "id": "62b696be",
   "metadata": {},
   "source": [
    "### 1. In what modes should the PdfFileReader() and PdfFileWriter() File objects will be opened?\n",
    "* for opening a PdfFileReder the mode should be rb (read binary) and same for PdfFileWriter it should be wb (write binary)"
   ]
  },
  {
   "cell_type": "markdown",
   "id": "73b90b2a",
   "metadata": {},
   "source": [
    "### 2. From a PdfFileReader object, how do you get a Page object for page 5?\n",
    "For getting page 5 we can use getPage method \n",
    "\n",
    "pdfReader = PyPDF2.PdfFileReader(filename)\n",
    "\n",
    "pdfReader.getPage(5)"
   ]
  },
  {
   "cell_type": "markdown",
   "id": "93994be9",
   "metadata": {},
   "source": [
    "### 3. What PdfFileReader variable stores the number of pages in the PDF document?\n",
    "\n",
    "pages = pdfReader.numPages\n",
    "\n",
    "attribut is used for returning number of pages in pdf file"
   ]
  },
  {
   "cell_type": "markdown",
   "id": "93c786dc",
   "metadata": {},
   "source": [
    "### 4. If a PdfFileReader object’s PDF is encrypted with the password swordfish, what must you do before you can obtain Page objects from it?\n",
    "* It means our pdf file isencrypted then before doing aything we should decrypte our file, If we want to check whether your file is incrypted of not this attribute will be helpful **pdfReader.isEncrypted**\n",
    "\n",
    "* **pdfReader.decrypt('swordfish')**"
   ]
  },
  {
   "cell_type": "markdown",
   "id": "2239524f",
   "metadata": {},
   "source": [
    "### 5. What methods do you use to rotate a page?\n",
    "* one of 2 follwing methods can be used for rotating a page **rotateClockwise() and rotateCounterClockwise()**, the degree can be 90 , 180, 270"
   ]
  },
  {
   "cell_type": "markdown",
   "id": "29d1000e",
   "metadata": {},
   "source": [
    "### 6. What is the difference between a Run object and a Paragraph object?\n",
    "\n",
    "* A run is the object most closely associated with inline content; text, pictures, and other items that are flowed between the block-item boundaries within a paragraph and paragraph object is object most related to paragraps for example Paragraph styles can be applied to Paragraph objects, character styles can be applied to Run objects"
   ]
  },
  {
   "cell_type": "markdown",
   "id": "046cc2e4",
   "metadata": {},
   "source": [
    "### 7. How do you obtain a list of Paragraph objects for a Document object that’s stored in a variable named doc?\n",
    "  \n",
    "*  **doc.paragraphs** is the list of all paragraphs in the doc variable and for accessing to first paragraph we can use **doc.paragraphs[0]**"
   ]
  },
  {
   "cell_type": "markdown",
   "id": "31bd3f9f",
   "metadata": {},
   "source": [
    "### 8. What type of object has bold, underline, italic, strike, and outline variables?\n",
    "* We can divide a paragraph into runs and access each run individiaully for adding these styles then **run objects** have these attributes"
   ]
  },
  {
   "cell_type": "markdown",
   "id": "032f3089",
   "metadata": {},
   "source": [
    "### 9. What is the difference between False, True, and None for the bold variable? \n",
    "* True (the attribute is always enabled, no matter what other styles are applied to the run) \n",
    "* False (the attribute is always disabled)\n",
    "* None (defaults to whatever the run’s style is set to)"
   ]
  },
  {
   "cell_type": "markdown",
   "id": "486080c8",
   "metadata": {},
   "source": [
    "### 10. How do you create a Document object for a new Word document?\n",
    "* doc = docx.Document()  this create a new and empty documents "
   ]
  },
  {
   "cell_type": "markdown",
   "id": "244b61ea",
   "metadata": {},
   "source": [
    "### 11. How do you add a paragraph with the text 'Hello, there!' to a Document object stored in a variable named doc?\n",
    "* doc.add_paragraph('Hello, there!')"
   ]
  },
  {
   "cell_type": "markdown",
   "id": "54798cea",
   "metadata": {},
   "source": [
    "### 12. What integers represent the levels of headings available in Word documents?\n",
    "* The integer argument of the add_heading() is from 0 to 4. \n",
    "* The integer 0 makes the heading the Title style, which is used for the top of the document.\n",
    "* Integers 1 to 4 are for various heading levels, with 1 being the main heading and 4 the lowest subheading"
   ]
  },
  {
   "cell_type": "code",
   "execution_count": null,
   "id": "0a9e25dc",
   "metadata": {},
   "outputs": [],
   "source": []
  }
 ],
 "metadata": {
  "kernelspec": {
   "display_name": "Python 3 (ipykernel)",
   "language": "python",
   "name": "python3"
  },
  "language_info": {
   "codemirror_mode": {
    "name": "ipython",
    "version": 3
   },
   "file_extension": ".py",
   "mimetype": "text/x-python",
   "name": "python",
   "nbconvert_exporter": "python",
   "pygments_lexer": "ipython3",
   "version": "3.8.12"
  }
 },
 "nbformat": 4,
 "nbformat_minor": 5
}
